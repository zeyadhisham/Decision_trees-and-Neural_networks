{
 "cells": [
  {
   "cell_type": "markdown",
   "id": "63b475a8",
   "metadata": {},
   "source": [
    "##  <center> DTI 5126: Fundamentals for Applied Data Science </center>\n",
    "###  <center> Assignment 2 </center>\n",
    "###  <center> Zeyad Elsayed </center>"
   ]
  },
  {
   "cell_type": "markdown",
   "id": "c4909d95",
   "metadata": {},
   "source": [
    "## Part A: Decision Trees\n",
    "\n",
    "> #### Understanding the Dataset"
   ]
  },
  {
   "cell_type": "code",
   "execution_count": 92,
   "id": "3abde7a1",
   "metadata": {
    "scrolled": false
   },
   "outputs": [
    {
     "data": {
      "text/html": [
       "<table>\n",
       "<thead><tr><th scope=col>age</th><th scope=col>sex</th><th scope=col>on_thyroxine</th><th scope=col>query_on_thyroxine</th><th scope=col>on_antithyroid_medication</th><th scope=col>sick</th><th scope=col>pregnant</th><th scope=col>thyroid_surgery</th><th scope=col>I131_treatment</th><th scope=col>query_hypothyroid</th><th scope=col>...</th><th scope=col>TT4_measured</th><th scope=col>TT4</th><th scope=col>T4U_measured</th><th scope=col>T4U</th><th scope=col>FTI_measured</th><th scope=col>FTI</th><th scope=col>TBG_measured</th><th scope=col>TBG</th><th scope=col>referral_source</th><th scope=col>Class</th></tr></thead>\n",
       "<tbody>\n",
       "\t<tr><td>41      </td><td>F       </td><td>f       </td><td>f       </td><td>f       </td><td>f       </td><td>f       </td><td>f       </td><td>f       </td><td>f       </td><td>...     </td><td>t       </td><td>125     </td><td>t       </td><td>1.14    </td><td>t       </td><td>109     </td><td>f       </td><td>?       </td><td>SVHC    </td><td>negative</td></tr>\n",
       "\t<tr><td>23      </td><td>F       </td><td>f       </td><td>f       </td><td>f       </td><td>f       </td><td>f       </td><td>f       </td><td>f       </td><td>f       </td><td>...     </td><td>t       </td><td>102     </td><td>f       </td><td>?       </td><td>f       </td><td>?       </td><td>f       </td><td>?       </td><td>other   </td><td>negative</td></tr>\n",
       "\t<tr><td>46      </td><td>M       </td><td>f       </td><td>f       </td><td>f       </td><td>f       </td><td>f       </td><td>f       </td><td>f       </td><td>f       </td><td>...     </td><td>t       </td><td>109     </td><td>t       </td><td>0.91    </td><td>t       </td><td>120     </td><td>f       </td><td>?       </td><td>other   </td><td>negative</td></tr>\n",
       "\t<tr><td>70      </td><td>F       </td><td>t       </td><td>f       </td><td>f       </td><td>f       </td><td>f       </td><td>f       </td><td>f       </td><td>f       </td><td>...     </td><td>t       </td><td>175     </td><td>f       </td><td>?       </td><td>f       </td><td>?       </td><td>f       </td><td>?       </td><td>other   </td><td>negative</td></tr>\n",
       "\t<tr><td>70      </td><td>F       </td><td>f       </td><td>f       </td><td>f       </td><td>f       </td><td>f       </td><td>f       </td><td>f       </td><td>f       </td><td>...     </td><td>t       </td><td>61      </td><td>t       </td><td>0.87    </td><td>t       </td><td>70      </td><td>f       </td><td>?       </td><td>SVI     </td><td>negative</td></tr>\n",
       "</tbody>\n",
       "</table>\n"
      ],
      "text/latex": [
       "\\begin{tabular}{r|llllllllllllllllllllllllllllll}\n",
       " age & sex & on\\_thyroxine & query\\_on\\_thyroxine & on\\_antithyroid\\_medication & sick & pregnant & thyroid\\_surgery & I131\\_treatment & query\\_hypothyroid & ... & TT4\\_measured & TT4 & T4U\\_measured & T4U & FTI\\_measured & FTI & TBG\\_measured & TBG & referral\\_source & Class\\\\\n",
       "\\hline\n",
       "\t 41       & F        & f        & f        & f        & f        & f        & f        & f        & f        & ...      & t        & 125      & t        & 1.14     & t        & 109      & f        & ?        & SVHC     & negative\\\\\n",
       "\t 23       & F        & f        & f        & f        & f        & f        & f        & f        & f        & ...      & t        & 102      & f        & ?        & f        & ?        & f        & ?        & other    & negative\\\\\n",
       "\t 46       & M        & f        & f        & f        & f        & f        & f        & f        & f        & ...      & t        & 109      & t        & 0.91     & t        & 120      & f        & ?        & other    & negative\\\\\n",
       "\t 70       & F        & t        & f        & f        & f        & f        & f        & f        & f        & ...      & t        & 175      & f        & ?        & f        & ?        & f        & ?        & other    & negative\\\\\n",
       "\t 70       & F        & f        & f        & f        & f        & f        & f        & f        & f        & ...      & t        & 61       & t        & 0.87     & t        & 70       & f        & ?        & SVI      & negative\\\\\n",
       "\\end{tabular}\n"
      ],
      "text/markdown": [
       "\n",
       "| age | sex | on_thyroxine | query_on_thyroxine | on_antithyroid_medication | sick | pregnant | thyroid_surgery | I131_treatment | query_hypothyroid | ... | TT4_measured | TT4 | T4U_measured | T4U | FTI_measured | FTI | TBG_measured | TBG | referral_source | Class |\n",
       "|---|---|---|---|---|---|---|---|---|---|---|---|---|---|---|---|---|---|---|---|---|\n",
       "| 41       | F        | f        | f        | f        | f        | f        | f        | f        | f        | ...      | t        | 125      | t        | 1.14     | t        | 109      | f        | ?        | SVHC     | negative |\n",
       "| 23       | F        | f        | f        | f        | f        | f        | f        | f        | f        | ...      | t        | 102      | f        | ?        | f        | ?        | f        | ?        | other    | negative |\n",
       "| 46       | M        | f        | f        | f        | f        | f        | f        | f        | f        | ...      | t        | 109      | t        | 0.91     | t        | 120      | f        | ?        | other    | negative |\n",
       "| 70       | F        | t        | f        | f        | f        | f        | f        | f        | f        | ...      | t        | 175      | f        | ?        | f        | ?        | f        | ?        | other    | negative |\n",
       "| 70       | F        | f        | f        | f        | f        | f        | f        | f        | f        | ...      | t        | 61       | t        | 0.87     | t        | 70       | f        | ?        | SVI      | negative |\n",
       "\n"
      ],
      "text/plain": [
       "  age sex on_thyroxine query_on_thyroxine on_antithyroid_medication sick\n",
       "1 41  F   f            f                  f                         f   \n",
       "2 23  F   f            f                  f                         f   \n",
       "3 46  M   f            f                  f                         f   \n",
       "4 70  F   t            f                  f                         f   \n",
       "5 70  F   f            f                  f                         f   \n",
       "  pregnant thyroid_surgery I131_treatment query_hypothyroid ... TT4_measured\n",
       "1 f        f               f              f                 ... t           \n",
       "2 f        f               f              f                 ... t           \n",
       "3 f        f               f              f                 ... t           \n",
       "4 f        f               f              f                 ... t           \n",
       "5 f        f               f              f                 ... t           \n",
       "  TT4 T4U_measured T4U  FTI_measured FTI TBG_measured TBG referral_source\n",
       "1 125 t            1.14 t            109 f            ?   SVHC           \n",
       "2 102 f            ?    f            ?   f            ?   other          \n",
       "3 109 t            0.91 t            120 f            ?   other          \n",
       "4 175 f            ?    f            ?   f            ?   other          \n",
       "5 61  t            0.87 t            70  f            ?   SVI            \n",
       "  Class   \n",
       "1 negative\n",
       "2 negative\n",
       "3 negative\n",
       "4 negative\n",
       "5 negative"
      ]
     },
     "metadata": {},
     "output_type": "display_data"
    }
   ],
   "source": [
    "df <- read.csv('hypothyroid.csv') # putting dataset into a frame \n",
    "head(df, 5) #looking at the first few rows of the dataset"
   ]
  },
  {
   "cell_type": "code",
   "execution_count": 93,
   "id": "5cedbd69",
   "metadata": {},
   "outputs": [
    {
     "data": {
      "text/html": [
       "3772"
      ],
      "text/latex": [
       "3772"
      ],
      "text/markdown": [
       "3772"
      ],
      "text/plain": [
       "[1] 3772"
      ]
     },
     "metadata": {},
     "output_type": "display_data"
    },
    {
     "data": {
      "text/html": [
       "30"
      ],
      "text/latex": [
       "30"
      ],
      "text/markdown": [
       "30"
      ],
      "text/plain": [
       "[1] 30"
      ]
     },
     "metadata": {},
     "output_type": "display_data"
    }
   ],
   "source": [
    "nrow(df) #size of dataset\n",
    "ncol(df)"
   ]
  },
  {
   "cell_type": "markdown",
   "id": "402a15ea",
   "metadata": {},
   "source": [
    "#### The dataset contains 3772 records and 30 columns\n",
    "\n"
   ]
  },
  {
   "cell_type": "code",
   "execution_count": 113,
   "id": "9bf4e925",
   "metadata": {
    "scrolled": false
   },
   "outputs": [
    {
     "data": {
      "text/html": [
       "<table>\n",
       "<thead><tr><th></th><th scope=col>Class</th></tr></thead>\n",
       "<tbody>\n",
       "\t<tr><th scope=row>1</th><td>negative               </td></tr>\n",
       "\t<tr><th scope=row>16</th><td>compensated_hypothyroid</td></tr>\n",
       "\t<tr><th scope=row>41</th><td>primary_hypothyroid    </td></tr>\n",
       "\t<tr><th scope=row>1506</th><td>secondary_hypothyroid  </td></tr>\n",
       "</tbody>\n",
       "</table>\n"
      ],
      "text/latex": [
       "\\begin{tabular}{r|l}\n",
       "  & Class\\\\\n",
       "\\hline\n",
       "\t1 & negative               \\\\\n",
       "\t16 & compensated\\_hypothyroid\\\\\n",
       "\t41 & primary\\_hypothyroid    \\\\\n",
       "\t1506 & secondary\\_hypothyroid  \\\\\n",
       "\\end{tabular}\n"
      ],
      "text/markdown": [
       "\n",
       "| <!--/--> | Class |\n",
       "|---|---|\n",
       "| 1 | negative                |\n",
       "| 16 | compensated_hypothyroid |\n",
       "| 41 | primary_hypothyroid     |\n",
       "| 1506 | secondary_hypothyroid   |\n",
       "\n"
      ],
      "text/plain": [
       "     Class                  \n",
       "1    negative               \n",
       "16   compensated_hypothyroid\n",
       "41   primary_hypothyroid    \n",
       "1506 secondary_hypothyroid  "
      ]
     },
     "metadata": {},
     "output_type": "display_data"
    }
   ],
   "source": [
    "unique(df[c(\"Class\")])"
   ]
  },
  {
   "cell_type": "markdown",
   "id": "0ac366d8",
   "metadata": {},
   "source": [
    "#### It seems that patients can be diagnosed with 3 different types/levels of hypothyroid: Compensated, Primary, and Secondary "
   ]
  },
  {
   "cell_type": "code",
   "execution_count": 95,
   "id": "82bf5fc7",
   "metadata": {
    "scrolled": true
   },
   "outputs": [
    {
     "data": {
      "text/html": [
       "<table>\n",
       "<thead><tr><th scope=col>Var1</th><th scope=col>Freq</th></tr></thead>\n",
       "<tbody>\n",
       "\t<tr><td>compensated_hypothyroid</td><td> 194                   </td></tr>\n",
       "\t<tr><td>negative               </td><td>3481                   </td></tr>\n",
       "\t<tr><td>primary_hypothyroid    </td><td>  95                   </td></tr>\n",
       "\t<tr><td>secondary_hypothyroid  </td><td>   2                   </td></tr>\n",
       "</tbody>\n",
       "</table>\n"
      ],
      "text/latex": [
       "\\begin{tabular}{r|ll}\n",
       " Var1 & Freq\\\\\n",
       "\\hline\n",
       "\t compensated\\_hypothyroid &  194                     \\\\\n",
       "\t negative                & 3481                   \\\\\n",
       "\t primary\\_hypothyroid     &   95                     \\\\\n",
       "\t secondary\\_hypothyroid   &    2                     \\\\\n",
       "\\end{tabular}\n"
      ],
      "text/markdown": [
       "\n",
       "| Var1 | Freq |\n",
       "|---|---|\n",
       "| compensated_hypothyroid |  194                    |\n",
       "| negative                | 3481                    |\n",
       "| primary_hypothyroid     |   95                    |\n",
       "| secondary_hypothyroid   |    2                    |\n",
       "\n"
      ],
      "text/plain": [
       "  Var1                    Freq\n",
       "1 compensated_hypothyroid  194\n",
       "2 negative                3481\n",
       "3 primary_hypothyroid       95\n",
       "4 secondary_hypothyroid      2"
      ]
     },
     "metadata": {},
     "output_type": "display_data"
    }
   ],
   "source": [
    "as.data.frame(table(df[c(\"Class\")]))"
   ]
  },
  {
   "cell_type": "markdown",
   "id": "f0eee2d3",
   "metadata": {},
   "source": [
    "#### Most of the patients do not have hypothyroid. Of the patients that are positive, most of them have compensated hypothyroid. "
   ]
  },
  {
   "cell_type": "markdown",
   "id": "804a988b",
   "metadata": {},
   "source": [
    "*****"
   ]
  },
  {
   "cell_type": "code",
   "execution_count": 96,
   "id": "cc7f9dcd",
   "metadata": {
    "scrolled": true
   },
   "outputs": [
    {
     "data": {
      "text/plain": [
       "df \n",
       "\n",
       " 30  Variables      3772  Observations\n",
       "--------------------------------------------------------------------------------\n",
       "age \n",
       "       n  missing distinct \n",
       "    3772        0       94 \n",
       "\n",
       "lowest : 1  10 11 12 13, highest: 91 92 93 94 ? \n",
       "--------------------------------------------------------------------------------\n",
       "sex \n",
       "       n  missing distinct \n",
       "    3772        0        3 \n",
       "                            \n",
       "Value          ?     F     M\n",
       "Frequency    150  2480  1142\n",
       "Proportion 0.040 0.657 0.303\n",
       "--------------------------------------------------------------------------------\n",
       "on_thyroxine \n",
       "       n  missing distinct \n",
       "    3772        0        2 \n",
       "                      \n",
       "Value          f     t\n",
       "Frequency   3308   464\n",
       "Proportion 0.877 0.123\n",
       "--------------------------------------------------------------------------------\n",
       "query_on_thyroxine \n",
       "       n  missing distinct \n",
       "    3772        0        2 \n",
       "                      \n",
       "Value          f     t\n",
       "Frequency   3722    50\n",
       "Proportion 0.987 0.013\n",
       "--------------------------------------------------------------------------------\n",
       "on_antithyroid_medication \n",
       "       n  missing distinct \n",
       "    3772        0        2 \n",
       "                      \n",
       "Value          f     t\n",
       "Frequency   3729    43\n",
       "Proportion 0.989 0.011\n",
       "--------------------------------------------------------------------------------\n",
       "sick \n",
       "       n  missing distinct \n",
       "    3772        0        2 \n",
       "                      \n",
       "Value          f     t\n",
       "Frequency   3625   147\n",
       "Proportion 0.961 0.039\n",
       "--------------------------------------------------------------------------------\n",
       "pregnant \n",
       "       n  missing distinct \n",
       "    3772        0        2 \n",
       "                      \n",
       "Value          f     t\n",
       "Frequency   3719    53\n",
       "Proportion 0.986 0.014\n",
       "--------------------------------------------------------------------------------\n",
       "thyroid_surgery \n",
       "       n  missing distinct \n",
       "    3772        0        2 \n",
       "                      \n",
       "Value          f     t\n",
       "Frequency   3719    53\n",
       "Proportion 0.986 0.014\n",
       "--------------------------------------------------------------------------------\n",
       "I131_treatment \n",
       "       n  missing distinct \n",
       "    3772        0        2 \n",
       "                      \n",
       "Value          f     t\n",
       "Frequency   3713    59\n",
       "Proportion 0.984 0.016\n",
       "--------------------------------------------------------------------------------\n",
       "query_hypothyroid \n",
       "       n  missing distinct \n",
       "    3772        0        2 \n",
       "                      \n",
       "Value          f     t\n",
       "Frequency   3538   234\n",
       "Proportion 0.938 0.062\n",
       "--------------------------------------------------------------------------------\n",
       "query_hyperthyroid \n",
       "       n  missing distinct \n",
       "    3772        0        2 \n",
       "                      \n",
       "Value          f     t\n",
       "Frequency   3535   237\n",
       "Proportion 0.937 0.063\n",
       "--------------------------------------------------------------------------------\n",
       "lithium \n",
       "       n  missing distinct \n",
       "    3772        0        2 \n",
       "                      \n",
       "Value          f     t\n",
       "Frequency   3754    18\n",
       "Proportion 0.995 0.005\n",
       "--------------------------------------------------------------------------------\n",
       "goitre \n",
       "       n  missing distinct \n",
       "    3772        0        2 \n",
       "                      \n",
       "Value          f     t\n",
       "Frequency   3738    34\n",
       "Proportion 0.991 0.009\n",
       "--------------------------------------------------------------------------------\n",
       "tumor \n",
       "       n  missing distinct \n",
       "    3772        0        2 \n",
       "                      \n",
       "Value          f     t\n",
       "Frequency   3676    96\n",
       "Proportion 0.975 0.025\n",
       "--------------------------------------------------------------------------------\n",
       "hypopituitary \n",
       "       n  missing distinct \n",
       "    3772        0        2 \n",
       "                    \n",
       "Value         f    t\n",
       "Frequency  3771    1\n",
       "Proportion    1    0\n",
       "--------------------------------------------------------------------------------\n",
       "psych \n",
       "       n  missing distinct \n",
       "    3772        0        2 \n",
       "                      \n",
       "Value          f     t\n",
       "Frequency   3588   184\n",
       "Proportion 0.951 0.049\n",
       "--------------------------------------------------------------------------------\n",
       "TSH_measured \n",
       "       n  missing distinct \n",
       "    3772        0        2 \n",
       "                      \n",
       "Value          f     t\n",
       "Frequency    369  3403\n",
       "Proportion 0.098 0.902\n",
       "--------------------------------------------------------------------------------\n",
       "TSH \n",
       "       n  missing distinct \n",
       "    3772        0      288 \n",
       "\n",
       "lowest : 0.005 0.01  0.015 0.02  0.025, highest: 9.8   9.9   98    99    ?    \n",
       "--------------------------------------------------------------------------------\n",
       "T3_measured \n",
       "       n  missing distinct \n",
       "    3772        0        2 \n",
       "                      \n",
       "Value          f     t\n",
       "Frequency    769  3003\n",
       "Proportion 0.204 0.796\n",
       "--------------------------------------------------------------------------------\n",
       "T3 \n",
       "       n  missing distinct \n",
       "    3772        0       70 \n",
       "\n",
       "lowest : 0.05 0.1  0.2  0.3  0.4 , highest: 7.1  7.3  7.6  8.5  ?   \n",
       "--------------------------------------------------------------------------------\n",
       "TT4_measured \n",
       "       n  missing distinct \n",
       "    3772        0        2 \n",
       "                      \n",
       "Value          f     t\n",
       "Frequency    231  3541\n",
       "Proportion 0.061 0.939\n",
       "--------------------------------------------------------------------------------\n",
       "TT4 \n",
       "       n  missing distinct \n",
       "    3772        0      242 \n",
       "\n",
       "lowest : 10  100 101 102 103, highest: 96  97  98  99  ?  \n",
       "--------------------------------------------------------------------------------\n",
       "T4U_measured \n",
       "       n  missing distinct \n",
       "    3772        0        2 \n",
       "                      \n",
       "Value          f     t\n",
       "Frequency    387  3385\n",
       "Proportion 0.103 0.897\n",
       "--------------------------------------------------------------------------------\n",
       "T4U \n",
       "       n  missing distinct \n",
       "    3772        0      147 \n",
       "\n",
       "lowest : 0.25 0.31 0.36 0.38 0.41, highest: 2.01 2.03 2.12 2.32 ?   \n",
       "--------------------------------------------------------------------------------\n",
       "FTI_measured \n",
       "       n  missing distinct \n",
       "    3772        0        2 \n",
       "                      \n",
       "Value          f     t\n",
       "Frequency    385  3387\n",
       "Proportion 0.102 0.898\n",
       "--------------------------------------------------------------------------------\n",
       "FTI \n",
       "       n  missing distinct \n",
       "    3772        0      235 \n",
       "\n",
       "lowest : 10  100 101 102 103, highest: 96  97  98  99  ?  \n",
       "--------------------------------------------------------------------------------\n",
       "TBG_measured \n",
       "       n  missing distinct    value \n",
       "    3772        0        1        f \n",
       "               \n",
       "Value         f\n",
       "Frequency  3772\n",
       "Proportion    1\n",
       "--------------------------------------------------------------------------------\n",
       "TBG \n",
       "       n  missing distinct    value \n",
       "    3772        0        1        ? \n",
       "               \n",
       "Value         ?\n",
       "Frequency  3772\n",
       "Proportion    1\n",
       "--------------------------------------------------------------------------------\n",
       "referral_source \n",
       "       n  missing distinct \n",
       "    3772        0        5 \n",
       "                                        \n",
       "Value       STMW  SVHC  SVHD   SVI other\n",
       "Frequency    112   386    39  1034  2201\n",
       "Proportion 0.030 0.102 0.010 0.274 0.584\n",
       "--------------------------------------------------------------------------------\n",
       "Class \n",
       "       n  missing distinct \n",
       "    3772        0        4 \n",
       "                                                          \n",
       "Value      compensated_hypothyroid                negative\n",
       "Frequency                      194                    3481\n",
       "Proportion                   0.051                   0.923\n",
       "                                                          \n",
       "Value          primary_hypothyroid   secondary_hypothyroid\n",
       "Frequency                       95                       2\n",
       "Proportion                   0.025                   0.001\n",
       "--------------------------------------------------------------------------------"
      ]
     },
     "metadata": {},
     "output_type": "display_data"
    }
   ],
   "source": [
    "library(Hmisc)\n",
    "df_desc <- describe(df)\n",
    "df_desc"
   ]
  },
  {
   "cell_type": "markdown",
   "id": "d8747454",
   "metadata": {},
   "source": [
    "#### Missing values are represented with '?' therefore, we need to replace '?' with NA"
   ]
  },
  {
   "cell_type": "code",
   "execution_count": 97,
   "id": "da7fa131",
   "metadata": {},
   "outputs": [
    {
     "data": {
      "text/html": [
       "<table>\n",
       "<thead><tr><th scope=col>age</th><th scope=col>sex</th><th scope=col>on_thyroxine</th><th scope=col>query_on_thyroxine</th><th scope=col>on_antithyroid_medication</th><th scope=col>sick</th><th scope=col>pregnant</th><th scope=col>thyroid_surgery</th><th scope=col>I131_treatment</th><th scope=col>query_hypothyroid</th><th scope=col>...</th><th scope=col>TT4_measured</th><th scope=col>TT4</th><th scope=col>T4U_measured</th><th scope=col>T4U</th><th scope=col>FTI_measured</th><th scope=col>FTI</th><th scope=col>TBG_measured</th><th scope=col>TBG</th><th scope=col>referral_source</th><th scope=col>Class</th></tr></thead>\n",
       "<tbody>\n",
       "\t<tr><td>41      </td><td>F       </td><td>f       </td><td>f       </td><td>f       </td><td>f       </td><td>f       </td><td>f       </td><td>f       </td><td>f       </td><td>...     </td><td>t       </td><td>125     </td><td>t       </td><td>1.14    </td><td>t       </td><td>109     </td><td>f       </td><td>NA      </td><td>SVHC    </td><td>negative</td></tr>\n",
       "\t<tr><td>23      </td><td>F       </td><td>f       </td><td>f       </td><td>f       </td><td>f       </td><td>f       </td><td>f       </td><td>f       </td><td>f       </td><td>...     </td><td>t       </td><td>102     </td><td>f       </td><td>NA      </td><td>f       </td><td>NA      </td><td>f       </td><td>NA      </td><td>other   </td><td>negative</td></tr>\n",
       "\t<tr><td>46      </td><td>M       </td><td>f       </td><td>f       </td><td>f       </td><td>f       </td><td>f       </td><td>f       </td><td>f       </td><td>f       </td><td>...     </td><td>t       </td><td>109     </td><td>t       </td><td>0.91    </td><td>t       </td><td>120     </td><td>f       </td><td>NA      </td><td>other   </td><td>negative</td></tr>\n",
       "\t<tr><td>70      </td><td>F       </td><td>t       </td><td>f       </td><td>f       </td><td>f       </td><td>f       </td><td>f       </td><td>f       </td><td>f       </td><td>...     </td><td>t       </td><td>175     </td><td>f       </td><td>NA      </td><td>f       </td><td>NA      </td><td>f       </td><td>NA      </td><td>other   </td><td>negative</td></tr>\n",
       "\t<tr><td>70      </td><td>F       </td><td>f       </td><td>f       </td><td>f       </td><td>f       </td><td>f       </td><td>f       </td><td>f       </td><td>f       </td><td>...     </td><td>t       </td><td>61      </td><td>t       </td><td>0.87    </td><td>t       </td><td>70      </td><td>f       </td><td>NA      </td><td>SVI     </td><td>negative</td></tr>\n",
       "\t<tr><td>18      </td><td>F       </td><td>t       </td><td>f       </td><td>f       </td><td>f       </td><td>f       </td><td>f       </td><td>f       </td><td>f       </td><td>...     </td><td>t       </td><td>183     </td><td>t       </td><td>1.3     </td><td>t       </td><td>141     </td><td>f       </td><td>NA      </td><td>other   </td><td>negative</td></tr>\n",
       "</tbody>\n",
       "</table>\n"
      ],
      "text/latex": [
       "\\begin{tabular}{r|llllllllllllllllllllllllllllll}\n",
       " age & sex & on\\_thyroxine & query\\_on\\_thyroxine & on\\_antithyroid\\_medication & sick & pregnant & thyroid\\_surgery & I131\\_treatment & query\\_hypothyroid & ... & TT4\\_measured & TT4 & T4U\\_measured & T4U & FTI\\_measured & FTI & TBG\\_measured & TBG & referral\\_source & Class\\\\\n",
       "\\hline\n",
       "\t 41       & F        & f        & f        & f        & f        & f        & f        & f        & f        & ...      & t        & 125      & t        & 1.14     & t        & 109      & f        & NA       & SVHC     & negative\\\\\n",
       "\t 23       & F        & f        & f        & f        & f        & f        & f        & f        & f        & ...      & t        & 102      & f        & NA       & f        & NA       & f        & NA       & other    & negative\\\\\n",
       "\t 46       & M        & f        & f        & f        & f        & f        & f        & f        & f        & ...      & t        & 109      & t        & 0.91     & t        & 120      & f        & NA       & other    & negative\\\\\n",
       "\t 70       & F        & t        & f        & f        & f        & f        & f        & f        & f        & ...      & t        & 175      & f        & NA       & f        & NA       & f        & NA       & other    & negative\\\\\n",
       "\t 70       & F        & f        & f        & f        & f        & f        & f        & f        & f        & ...      & t        & 61       & t        & 0.87     & t        & 70       & f        & NA       & SVI      & negative\\\\\n",
       "\t 18       & F        & t        & f        & f        & f        & f        & f        & f        & f        & ...      & t        & 183      & t        & 1.3      & t        & 141      & f        & NA       & other    & negative\\\\\n",
       "\\end{tabular}\n"
      ],
      "text/markdown": [
       "\n",
       "| age | sex | on_thyroxine | query_on_thyroxine | on_antithyroid_medication | sick | pregnant | thyroid_surgery | I131_treatment | query_hypothyroid | ... | TT4_measured | TT4 | T4U_measured | T4U | FTI_measured | FTI | TBG_measured | TBG | referral_source | Class |\n",
       "|---|---|---|---|---|---|---|---|---|---|---|---|---|---|---|---|---|---|---|---|---|\n",
       "| 41       | F        | f        | f        | f        | f        | f        | f        | f        | f        | ...      | t        | 125      | t        | 1.14     | t        | 109      | f        | NA       | SVHC     | negative |\n",
       "| 23       | F        | f        | f        | f        | f        | f        | f        | f        | f        | ...      | t        | 102      | f        | NA       | f        | NA       | f        | NA       | other    | negative |\n",
       "| 46       | M        | f        | f        | f        | f        | f        | f        | f        | f        | ...      | t        | 109      | t        | 0.91     | t        | 120      | f        | NA       | other    | negative |\n",
       "| 70       | F        | t        | f        | f        | f        | f        | f        | f        | f        | ...      | t        | 175      | f        | NA       | f        | NA       | f        | NA       | other    | negative |\n",
       "| 70       | F        | f        | f        | f        | f        | f        | f        | f        | f        | ...      | t        | 61       | t        | 0.87     | t        | 70       | f        | NA       | SVI      | negative |\n",
       "| 18       | F        | t        | f        | f        | f        | f        | f        | f        | f        | ...      | t        | 183      | t        | 1.3      | t        | 141      | f        | NA       | other    | negative |\n",
       "\n"
      ],
      "text/plain": [
       "  age sex on_thyroxine query_on_thyroxine on_antithyroid_medication sick\n",
       "1 41  F   f            f                  f                         f   \n",
       "2 23  F   f            f                  f                         f   \n",
       "3 46  M   f            f                  f                         f   \n",
       "4 70  F   t            f                  f                         f   \n",
       "5 70  F   f            f                  f                         f   \n",
       "6 18  F   t            f                  f                         f   \n",
       "  pregnant thyroid_surgery I131_treatment query_hypothyroid ... TT4_measured\n",
       "1 f        f               f              f                 ... t           \n",
       "2 f        f               f              f                 ... t           \n",
       "3 f        f               f              f                 ... t           \n",
       "4 f        f               f              f                 ... t           \n",
       "5 f        f               f              f                 ... t           \n",
       "6 f        f               f              f                 ... t           \n",
       "  TT4 T4U_measured T4U  FTI_measured FTI TBG_measured TBG referral_source\n",
       "1 125 t            1.14 t            109 f            NA  SVHC           \n",
       "2 102 f            NA   f            NA  f            NA  other          \n",
       "3 109 t            0.91 t            120 f            NA  other          \n",
       "4 175 f            NA   f            NA  f            NA  other          \n",
       "5 61  t            0.87 t            70  f            NA  SVI            \n",
       "6 183 t            1.3  t            141 f            NA  other          \n",
       "  Class   \n",
       "1 negative\n",
       "2 negative\n",
       "3 negative\n",
       "4 negative\n",
       "5 negative\n",
       "6 negative"
      ]
     },
     "metadata": {},
     "output_type": "display_data"
    }
   ],
   "source": [
    "df[df == '?'] <- NA\n",
    "head(df)"
   ]
  },
  {
   "cell_type": "code",
   "execution_count": 98,
   "id": "24e846c0",
   "metadata": {
    "scrolled": true
   },
   "outputs": [
    {
     "data": {
      "text/plain": [
       "df \n",
       "\n",
       " 30  Variables      3772  Observations\n",
       "--------------------------------------------------------------------------------\n",
       "age \n",
       "       n  missing distinct \n",
       "    3771        1       93 \n",
       "\n",
       "lowest : 1  10 11 12 13, highest: 90 91 92 93 94\n",
       "--------------------------------------------------------------------------------\n",
       "sex \n",
       "       n  missing distinct \n",
       "    3622      150        2 \n",
       "                      \n",
       "Value          F     M\n",
       "Frequency   2480  1142\n",
       "Proportion 0.685 0.315\n",
       "--------------------------------------------------------------------------------\n",
       "on_thyroxine \n",
       "       n  missing distinct \n",
       "    3772        0        2 \n",
       "                      \n",
       "Value          f     t\n",
       "Frequency   3308   464\n",
       "Proportion 0.877 0.123\n",
       "--------------------------------------------------------------------------------\n",
       "query_on_thyroxine \n",
       "       n  missing distinct \n",
       "    3772        0        2 \n",
       "                      \n",
       "Value          f     t\n",
       "Frequency   3722    50\n",
       "Proportion 0.987 0.013\n",
       "--------------------------------------------------------------------------------\n",
       "on_antithyroid_medication \n",
       "       n  missing distinct \n",
       "    3772        0        2 \n",
       "                      \n",
       "Value          f     t\n",
       "Frequency   3729    43\n",
       "Proportion 0.989 0.011\n",
       "--------------------------------------------------------------------------------\n",
       "sick \n",
       "       n  missing distinct \n",
       "    3772        0        2 \n",
       "                      \n",
       "Value          f     t\n",
       "Frequency   3625   147\n",
       "Proportion 0.961 0.039\n",
       "--------------------------------------------------------------------------------\n",
       "pregnant \n",
       "       n  missing distinct \n",
       "    3772        0        2 \n",
       "                      \n",
       "Value          f     t\n",
       "Frequency   3719    53\n",
       "Proportion 0.986 0.014\n",
       "--------------------------------------------------------------------------------\n",
       "thyroid_surgery \n",
       "       n  missing distinct \n",
       "    3772        0        2 \n",
       "                      \n",
       "Value          f     t\n",
       "Frequency   3719    53\n",
       "Proportion 0.986 0.014\n",
       "--------------------------------------------------------------------------------\n",
       "I131_treatment \n",
       "       n  missing distinct \n",
       "    3772        0        2 \n",
       "                      \n",
       "Value          f     t\n",
       "Frequency   3713    59\n",
       "Proportion 0.984 0.016\n",
       "--------------------------------------------------------------------------------\n",
       "query_hypothyroid \n",
       "       n  missing distinct \n",
       "    3772        0        2 \n",
       "                      \n",
       "Value          f     t\n",
       "Frequency   3538   234\n",
       "Proportion 0.938 0.062\n",
       "--------------------------------------------------------------------------------\n",
       "query_hyperthyroid \n",
       "       n  missing distinct \n",
       "    3772        0        2 \n",
       "                      \n",
       "Value          f     t\n",
       "Frequency   3535   237\n",
       "Proportion 0.937 0.063\n",
       "--------------------------------------------------------------------------------\n",
       "lithium \n",
       "       n  missing distinct \n",
       "    3772        0        2 \n",
       "                      \n",
       "Value          f     t\n",
       "Frequency   3754    18\n",
       "Proportion 0.995 0.005\n",
       "--------------------------------------------------------------------------------\n",
       "goitre \n",
       "       n  missing distinct \n",
       "    3772        0        2 \n",
       "                      \n",
       "Value          f     t\n",
       "Frequency   3738    34\n",
       "Proportion 0.991 0.009\n",
       "--------------------------------------------------------------------------------\n",
       "tumor \n",
       "       n  missing distinct \n",
       "    3772        0        2 \n",
       "                      \n",
       "Value          f     t\n",
       "Frequency   3676    96\n",
       "Proportion 0.975 0.025\n",
       "--------------------------------------------------------------------------------\n",
       "hypopituitary \n",
       "       n  missing distinct \n",
       "    3772        0        2 \n",
       "                    \n",
       "Value         f    t\n",
       "Frequency  3771    1\n",
       "Proportion    1    0\n",
       "--------------------------------------------------------------------------------\n",
       "psych \n",
       "       n  missing distinct \n",
       "    3772        0        2 \n",
       "                      \n",
       "Value          f     t\n",
       "Frequency   3588   184\n",
       "Proportion 0.951 0.049\n",
       "--------------------------------------------------------------------------------\n",
       "TSH_measured \n",
       "       n  missing distinct \n",
       "    3772        0        2 \n",
       "                      \n",
       "Value          f     t\n",
       "Frequency    369  3403\n",
       "Proportion 0.098 0.902\n",
       "--------------------------------------------------------------------------------\n",
       "TSH \n",
       "       n  missing distinct \n",
       "    3403      369      287 \n",
       "\n",
       "lowest : 0.005 0.01  0.015 0.02  0.025, highest: 9.7   9.8   9.9   98    99   \n",
       "--------------------------------------------------------------------------------\n",
       "T3_measured \n",
       "       n  missing distinct \n",
       "    3772        0        2 \n",
       "                      \n",
       "Value          f     t\n",
       "Frequency    769  3003\n",
       "Proportion 0.204 0.796\n",
       "--------------------------------------------------------------------------------\n",
       "T3 \n",
       "       n  missing distinct \n",
       "    3003      769       69 \n",
       "\n",
       "lowest : 0.05 0.1  0.2  0.3  0.4 , highest: 7    7.1  7.3  7.6  8.5 \n",
       "--------------------------------------------------------------------------------\n",
       "TT4_measured \n",
       "       n  missing distinct \n",
       "    3772        0        2 \n",
       "                      \n",
       "Value          f     t\n",
       "Frequency    231  3541\n",
       "Proportion 0.061 0.939\n",
       "--------------------------------------------------------------------------------\n",
       "TT4 \n",
       "       n  missing distinct \n",
       "    3541      231      241 \n",
       "\n",
       "lowest : 10  100 101 102 103, highest: 95  96  97  98  99 \n",
       "--------------------------------------------------------------------------------\n",
       "T4U_measured \n",
       "       n  missing distinct \n",
       "    3772        0        2 \n",
       "                      \n",
       "Value          f     t\n",
       "Frequency    387  3385\n",
       "Proportion 0.103 0.897\n",
       "--------------------------------------------------------------------------------\n",
       "T4U \n",
       "       n  missing distinct \n",
       "    3385      387      146 \n",
       "\n",
       "lowest : 0.25 0.31 0.36 0.38 0.41, highest: 1.97 2.01 2.03 2.12 2.32\n",
       "--------------------------------------------------------------------------------\n",
       "FTI_measured \n",
       "       n  missing distinct \n",
       "    3772        0        2 \n",
       "                      \n",
       "Value          f     t\n",
       "Frequency    385  3387\n",
       "Proportion 0.102 0.898\n",
       "--------------------------------------------------------------------------------\n",
       "FTI \n",
       "       n  missing distinct \n",
       "    3387      385      234 \n",
       "\n",
       "lowest : 10  100 101 102 103, highest: 95  96  97  98  99 \n",
       "--------------------------------------------------------------------------------\n",
       "TBG_measured \n",
       "       n  missing distinct    value \n",
       "    3772        0        1        f \n",
       "               \n",
       "Value         f\n",
       "Frequency  3772\n",
       "Proportion    1\n",
       "--------------------------------------------------------------------------------\n",
       "referral_source \n",
       "       n  missing distinct \n",
       "    3772        0        5 \n",
       "                                        \n",
       "Value       STMW  SVHC  SVHD   SVI other\n",
       "Frequency    112   386    39  1034  2201\n",
       "Proportion 0.030 0.102 0.010 0.274 0.584\n",
       "--------------------------------------------------------------------------------\n",
       "Class \n",
       "       n  missing distinct \n",
       "    3772        0        4 \n",
       "                                                          \n",
       "Value      compensated_hypothyroid                negative\n",
       "Frequency                      194                    3481\n",
       "Proportion                   0.051                   0.923\n",
       "                                                          \n",
       "Value          primary_hypothyroid   secondary_hypothyroid\n",
       "Frequency                       95                       2\n",
       "Proportion                   0.025                   0.001\n",
       "--------------------------------------------------------------------------------\n",
       "\n",
       "Variables with all observations missing:\n",
       "\n",
       "[1] TBG"
      ]
     },
     "metadata": {},
     "output_type": "display_data"
    }
   ],
   "source": [
    "df_desc <- describe(df)\n",
    "df_desc"
   ]
  },
  {
   "cell_type": "markdown",
   "id": "a4f3039c",
   "metadata": {},
   "source": [
    "#### - Age has 1 missing value and 1 illogical value \"455\" \n",
    "#### - Sex has 150 missing values\n",
    "#### - TSH has 369 missing values\n",
    "#### - T3 has 769 missing values\n",
    "#### - TT4 has 231 missing values\n",
    "#### - T4U has 387 missing values\n",
    "#### - FTI has 385 missing values\n",
    "#### - TBG has all missing values therefore this column will be entirely dropped."
   ]
  },
  {
   "cell_type": "markdown",
   "id": "662ee6af",
   "metadata": {},
   "source": [
    "-----\n",
    "-----\n",
    "###  a. There are some missing values in the dataset. Several strategies can be used to handle them, e.g., remove cases with unknowns. Apply one of these methods to address the missing values"
   ]
  },
  {
   "cell_type": "code",
   "execution_count": 99,
   "id": "b7040bbf",
   "metadata": {
    "scrolled": true
   },
   "outputs": [
    {
     "data": {
      "text/html": [
       "<table>\n",
       "<thead><tr><th scope=col>age</th><th scope=col>sex</th><th scope=col>on_thyroxine</th><th scope=col>query_on_thyroxine</th><th scope=col>on_antithyroid_medication</th><th scope=col>sick</th><th scope=col>pregnant</th><th scope=col>thyroid_surgery</th><th scope=col>I131_treatment</th><th scope=col>query_hypothyroid</th><th scope=col>...</th><th scope=col>T3</th><th scope=col>TT4_measured</th><th scope=col>TT4</th><th scope=col>T4U_measured</th><th scope=col>T4U</th><th scope=col>FTI_measured</th><th scope=col>FTI</th><th scope=col>TBG_measured</th><th scope=col>referral_source</th><th scope=col>Class</th></tr></thead>\n",
       "<tbody>\n",
       "\t<tr><td>41      </td><td>F       </td><td>f       </td><td>f       </td><td>f       </td><td>f       </td><td>f       </td><td>f       </td><td>f       </td><td>f       </td><td>...     </td><td>2.5     </td><td>t       </td><td>125     </td><td>t       </td><td>1.14    </td><td>t       </td><td>109     </td><td>f       </td><td>SVHC    </td><td>negative</td></tr>\n",
       "\t<tr><td>23      </td><td>F       </td><td>f       </td><td>f       </td><td>f       </td><td>f       </td><td>f       </td><td>f       </td><td>f       </td><td>f       </td><td>...     </td><td>2       </td><td>t       </td><td>102     </td><td>f       </td><td>NA      </td><td>f       </td><td>NA      </td><td>f       </td><td>other   </td><td>negative</td></tr>\n",
       "\t<tr><td>46      </td><td>M       </td><td>f       </td><td>f       </td><td>f       </td><td>f       </td><td>f       </td><td>f       </td><td>f       </td><td>f       </td><td>...     </td><td>NA      </td><td>t       </td><td>109     </td><td>t       </td><td>0.91    </td><td>t       </td><td>120     </td><td>f       </td><td>other   </td><td>negative</td></tr>\n",
       "\t<tr><td>70      </td><td>F       </td><td>t       </td><td>f       </td><td>f       </td><td>f       </td><td>f       </td><td>f       </td><td>f       </td><td>f       </td><td>...     </td><td>1.9     </td><td>t       </td><td>175     </td><td>f       </td><td>NA      </td><td>f       </td><td>NA      </td><td>f       </td><td>other   </td><td>negative</td></tr>\n",
       "\t<tr><td>70      </td><td>F       </td><td>f       </td><td>f       </td><td>f       </td><td>f       </td><td>f       </td><td>f       </td><td>f       </td><td>f       </td><td>...     </td><td>1.2     </td><td>t       </td><td>61      </td><td>t       </td><td>0.87    </td><td>t       </td><td>70      </td><td>f       </td><td>SVI     </td><td>negative</td></tr>\n",
       "</tbody>\n",
       "</table>\n"
      ],
      "text/latex": [
       "\\begin{tabular}{r|lllllllllllllllllllllllllllll}\n",
       " age & sex & on\\_thyroxine & query\\_on\\_thyroxine & on\\_antithyroid\\_medication & sick & pregnant & thyroid\\_surgery & I131\\_treatment & query\\_hypothyroid & ... & T3 & TT4\\_measured & TT4 & T4U\\_measured & T4U & FTI\\_measured & FTI & TBG\\_measured & referral\\_source & Class\\\\\n",
       "\\hline\n",
       "\t 41       & F        & f        & f        & f        & f        & f        & f        & f        & f        & ...      & 2.5      & t        & 125      & t        & 1.14     & t        & 109      & f        & SVHC     & negative\\\\\n",
       "\t 23       & F        & f        & f        & f        & f        & f        & f        & f        & f        & ...      & 2        & t        & 102      & f        & NA       & f        & NA       & f        & other    & negative\\\\\n",
       "\t 46       & M        & f        & f        & f        & f        & f        & f        & f        & f        & ...      & NA       & t        & 109      & t        & 0.91     & t        & 120      & f        & other    & negative\\\\\n",
       "\t 70       & F        & t        & f        & f        & f        & f        & f        & f        & f        & ...      & 1.9      & t        & 175      & f        & NA       & f        & NA       & f        & other    & negative\\\\\n",
       "\t 70       & F        & f        & f        & f        & f        & f        & f        & f        & f        & ...      & 1.2      & t        & 61       & t        & 0.87     & t        & 70       & f        & SVI      & negative\\\\\n",
       "\\end{tabular}\n"
      ],
      "text/markdown": [
       "\n",
       "| age | sex | on_thyroxine | query_on_thyroxine | on_antithyroid_medication | sick | pregnant | thyroid_surgery | I131_treatment | query_hypothyroid | ... | T3 | TT4_measured | TT4 | T4U_measured | T4U | FTI_measured | FTI | TBG_measured | referral_source | Class |\n",
       "|---|---|---|---|---|---|---|---|---|---|---|---|---|---|---|---|---|---|---|---|---|\n",
       "| 41       | F        | f        | f        | f        | f        | f        | f        | f        | f        | ...      | 2.5      | t        | 125      | t        | 1.14     | t        | 109      | f        | SVHC     | negative |\n",
       "| 23       | F        | f        | f        | f        | f        | f        | f        | f        | f        | ...      | 2        | t        | 102      | f        | NA       | f        | NA       | f        | other    | negative |\n",
       "| 46       | M        | f        | f        | f        | f        | f        | f        | f        | f        | ...      | NA       | t        | 109      | t        | 0.91     | t        | 120      | f        | other    | negative |\n",
       "| 70       | F        | t        | f        | f        | f        | f        | f        | f        | f        | ...      | 1.9      | t        | 175      | f        | NA       | f        | NA       | f        | other    | negative |\n",
       "| 70       | F        | f        | f        | f        | f        | f        | f        | f        | f        | ...      | 1.2      | t        | 61       | t        | 0.87     | t        | 70       | f        | SVI      | negative |\n",
       "\n"
      ],
      "text/plain": [
       "  age sex on_thyroxine query_on_thyroxine on_antithyroid_medication sick\n",
       "1 41  F   f            f                  f                         f   \n",
       "2 23  F   f            f                  f                         f   \n",
       "3 46  M   f            f                  f                         f   \n",
       "4 70  F   t            f                  f                         f   \n",
       "5 70  F   f            f                  f                         f   \n",
       "  pregnant thyroid_surgery I131_treatment query_hypothyroid ... T3 \n",
       "1 f        f               f              f                 ... 2.5\n",
       "2 f        f               f              f                 ... 2  \n",
       "3 f        f               f              f                 ... NA \n",
       "4 f        f               f              f                 ... 1.9\n",
       "5 f        f               f              f                 ... 1.2\n",
       "  TT4_measured TT4 T4U_measured T4U  FTI_measured FTI TBG_measured\n",
       "1 t            125 t            1.14 t            109 f           \n",
       "2 t            102 f            NA   f            NA  f           \n",
       "3 t            109 t            0.91 t            120 f           \n",
       "4 t            175 f            NA   f            NA  f           \n",
       "5 t            61  t            0.87 t            70  f           \n",
       "  referral_source Class   \n",
       "1 SVHC            negative\n",
       "2 other           negative\n",
       "3 other           negative\n",
       "4 other           negative\n",
       "5 SVI             negative"
      ]
     },
     "metadata": {},
     "output_type": "display_data"
    }
   ],
   "source": [
    "df_dropped = subset(df, select = -c(TBG) ) #drop TBG column\n",
    "head(df_dropped, 5)"
   ]
  },
  {
   "cell_type": "markdown",
   "id": "7480dfb2",
   "metadata": {},
   "source": [
    "#### TBG column was completely dropped due to having all values NA"
   ]
  },
  {
   "cell_type": "code",
   "execution_count": 100,
   "id": "df863339",
   "metadata": {
    "scrolled": true
   },
   "outputs": [],
   "source": [
    "df_dropped <- df_dropped[!is.na(df_dropped$age), ] #drop the record with age as NA\n",
    "df_reduced <- subset(df_dropped, age!=455) #drop the record with age = 455\n",
    "df_reduced$age <- as.numeric(as.character(df_reduced$age))"
   ]
  },
  {
   "cell_type": "code",
   "execution_count": 101,
   "id": "8d8bcbb7",
   "metadata": {
    "scrolled": false
   },
   "outputs": [
    {
     "data": {
      "text/plain": [
       "df_reduced$age \n",
       "       n  missing distinct     Info     Mean      Gmd      .05      .10 \n",
       "    3770        0       92        1    51.63    21.78       20       25 \n",
       "     .25      .50      .75      .90      .95 \n",
       "      36       54       67       75       79 \n",
       "\n",
       "lowest :  1  2  4  5  6, highest: 90 91 92 93 94"
      ]
     },
     "metadata": {},
     "output_type": "display_data"
    }
   ],
   "source": [
    "df_desc <- describe(df_reduced$age)\n",
    "df_desc"
   ]
  },
  {
   "cell_type": "markdown",
   "id": "611d2ba1",
   "metadata": {},
   "source": [
    "#### The only missing value in the age column was dropped as well as the record with 455 as age."
   ]
  },
  {
   "cell_type": "code",
   "execution_count": 102,
   "id": "73866edf",
   "metadata": {},
   "outputs": [],
   "source": [
    "df_reduced <- df_reduced[!is.na(df_reduced$sex),]\n",
    "#df_reduced$sex[is.na(df_reduced$sex)]<-\"F\""
   ]
  },
  {
   "cell_type": "code",
   "execution_count": 103,
   "id": "30731d7d",
   "metadata": {
    "scrolled": true
   },
   "outputs": [
    {
     "data": {
      "text/plain": [
       "df_reduced$sex \n",
       "       n  missing distinct \n",
       "    3620        0        2 \n",
       "                      \n",
       "Value          F     M\n",
       "Frequency   2478  1142\n",
       "Proportion 0.685 0.315"
      ]
     },
     "metadata": {},
     "output_type": "display_data"
    }
   ],
   "source": [
    "df_desc <- describe(df_reduced$sex)\n",
    "df_desc"
   ]
  },
  {
   "cell_type": "markdown",
   "id": "4f1d96c6",
   "metadata": {},
   "source": [
    "#### The records with missing value in 'sex' were dropped as well due to the categorical nature of the column.\n",
    "\n",
    "#### I also tried replacing the NA with the mode of the column which is \"F\" but this did not affect the feature importance as will be seen below where the column \"sex\" does not have any significance."
   ]
  },
  {
   "cell_type": "code",
   "execution_count": 104,
   "id": "f66db382",
   "metadata": {},
   "outputs": [],
   "source": [
    "df_reduced$TT4 <- as.numeric(as.character(df_reduced$TT4))\n",
    "df_reduced$TT4[is.na(df_reduced$TT4)]<-round(mean(df_reduced$TT4, na.rm = TRUE), 0)\n",
    "\n",
    "df_reduced$TSH <- as.numeric(as.character(df_reduced$TSH))\n",
    "df_reduced$TSH[is.na(df_reduced$TSH)]<-mean(df_reduced$TSH, na.rm = TRUE)\n",
    "\n",
    "df_reduced$T3 <- as.numeric(as.character(df_reduced$T3))\n",
    "df_reduced$T3[is.na(df_reduced$T3)]<-mean(df_reduced$T3, na.rm = TRUE)\n",
    "\n",
    "df_reduced$T4U <- as.numeric(as.character(df_reduced$T4U))\n",
    "df_reduced$T4U[is.na(df_reduced$T4U)]<-mean(df_reduced$T4U, na.rm = TRUE)\n",
    "\n",
    "df_reduced$FTI <- as.numeric(as.character(df_reduced$FTI))\n",
    "df_reduced$FTI[is.na(df_reduced$FTI)]<-round(mean(df_reduced$FTI, na.rm = TRUE), 0)"
   ]
  },
  {
   "cell_type": "code",
   "execution_count": 105,
   "id": "fe51e644",
   "metadata": {
    "scrolled": true
   },
   "outputs": [
    {
     "data": {
      "text/html": [
       "<table>\n",
       "<thead><tr><th scope=col>age</th><th scope=col>sex</th><th scope=col>on_thyroxine</th><th scope=col>query_on_thyroxine</th><th scope=col>on_antithyroid_medication</th><th scope=col>sick</th><th scope=col>pregnant</th><th scope=col>thyroid_surgery</th><th scope=col>I131_treatment</th><th scope=col>query_hypothyroid</th><th scope=col>...</th><th scope=col>T3</th><th scope=col>TT4_measured</th><th scope=col>TT4</th><th scope=col>T4U_measured</th><th scope=col>T4U</th><th scope=col>FTI_measured</th><th scope=col>FTI</th><th scope=col>TBG_measured</th><th scope=col>referral_source</th><th scope=col>Class</th></tr></thead>\n",
       "<tbody>\n",
       "\t<tr><td>41       </td><td>F        </td><td>f        </td><td>f        </td><td>f        </td><td>f        </td><td>f        </td><td>f        </td><td>f        </td><td>f        </td><td>...      </td><td>2.500000 </td><td>t        </td><td>125      </td><td>t        </td><td>1.1400000</td><td>t        </td><td>109      </td><td>f        </td><td>SVHC     </td><td>negative </td></tr>\n",
       "\t<tr><td>23       </td><td>F        </td><td>f        </td><td>f        </td><td>f        </td><td>f        </td><td>f        </td><td>f        </td><td>f        </td><td>f        </td><td>...      </td><td>2.000000 </td><td>t        </td><td>102      </td><td>f        </td><td>0.9955284</td><td>f        </td><td>110      </td><td>f        </td><td>other    </td><td>negative </td></tr>\n",
       "\t<tr><td>46       </td><td>M        </td><td>f        </td><td>f        </td><td>f        </td><td>f        </td><td>f        </td><td>f        </td><td>f        </td><td>f        </td><td>...      </td><td>2.010831 </td><td>t        </td><td>109      </td><td>t        </td><td>0.9100000</td><td>t        </td><td>120      </td><td>f        </td><td>other    </td><td>negative </td></tr>\n",
       "\t<tr><td>70       </td><td>F        </td><td>t        </td><td>f        </td><td>f        </td><td>f        </td><td>f        </td><td>f        </td><td>f        </td><td>f        </td><td>...      </td><td>1.900000 </td><td>t        </td><td>175      </td><td>f        </td><td>0.9955284</td><td>f        </td><td>110      </td><td>f        </td><td>other    </td><td>negative </td></tr>\n",
       "\t<tr><td>70       </td><td>F        </td><td>f        </td><td>f        </td><td>f        </td><td>f        </td><td>f        </td><td>f        </td><td>f        </td><td>f        </td><td>...      </td><td>1.200000 </td><td>t        </td><td> 61      </td><td>t        </td><td>0.8700000</td><td>t        </td><td> 70      </td><td>f        </td><td>SVI      </td><td>negative </td></tr>\n",
       "\t<tr><td>18       </td><td>F        </td><td>t        </td><td>f        </td><td>f        </td><td>f        </td><td>f        </td><td>f        </td><td>f        </td><td>f        </td><td>...      </td><td>2.010831 </td><td>t        </td><td>183      </td><td>t        </td><td>1.3000000</td><td>t        </td><td>141      </td><td>f        </td><td>other    </td><td>negative </td></tr>\n",
       "</tbody>\n",
       "</table>\n"
      ],
      "text/latex": [
       "\\begin{tabular}{r|lllllllllllllllllllllllllllll}\n",
       " age & sex & on\\_thyroxine & query\\_on\\_thyroxine & on\\_antithyroid\\_medication & sick & pregnant & thyroid\\_surgery & I131\\_treatment & query\\_hypothyroid & ... & T3 & TT4\\_measured & TT4 & T4U\\_measured & T4U & FTI\\_measured & FTI & TBG\\_measured & referral\\_source & Class\\\\\n",
       "\\hline\n",
       "\t 41        & F         & f         & f         & f         & f         & f         & f         & f         & f         & ...       & 2.500000  & t         & 125       & t         & 1.1400000 & t         & 109       & f         & SVHC      & negative \\\\\n",
       "\t 23        & F         & f         & f         & f         & f         & f         & f         & f         & f         & ...       & 2.000000  & t         & 102       & f         & 0.9955284 & f         & 110       & f         & other     & negative \\\\\n",
       "\t 46        & M         & f         & f         & f         & f         & f         & f         & f         & f         & ...       & 2.010831  & t         & 109       & t         & 0.9100000 & t         & 120       & f         & other     & negative \\\\\n",
       "\t 70        & F         & t         & f         & f         & f         & f         & f         & f         & f         & ...       & 1.900000  & t         & 175       & f         & 0.9955284 & f         & 110       & f         & other     & negative \\\\\n",
       "\t 70        & F         & f         & f         & f         & f         & f         & f         & f         & f         & ...       & 1.200000  & t         &  61       & t         & 0.8700000 & t         &  70       & f         & SVI       & negative \\\\\n",
       "\t 18        & F         & t         & f         & f         & f         & f         & f         & f         & f         & ...       & 2.010831  & t         & 183       & t         & 1.3000000 & t         & 141       & f         & other     & negative \\\\\n",
       "\\end{tabular}\n"
      ],
      "text/markdown": [
       "\n",
       "| age | sex | on_thyroxine | query_on_thyroxine | on_antithyroid_medication | sick | pregnant | thyroid_surgery | I131_treatment | query_hypothyroid | ... | T3 | TT4_measured | TT4 | T4U_measured | T4U | FTI_measured | FTI | TBG_measured | referral_source | Class |\n",
       "|---|---|---|---|---|---|---|---|---|---|---|---|---|---|---|---|---|---|---|---|---|\n",
       "| 41        | F         | f         | f         | f         | f         | f         | f         | f         | f         | ...       | 2.500000  | t         | 125       | t         | 1.1400000 | t         | 109       | f         | SVHC      | negative  |\n",
       "| 23        | F         | f         | f         | f         | f         | f         | f         | f         | f         | ...       | 2.000000  | t         | 102       | f         | 0.9955284 | f         | 110       | f         | other     | negative  |\n",
       "| 46        | M         | f         | f         | f         | f         | f         | f         | f         | f         | ...       | 2.010831  | t         | 109       | t         | 0.9100000 | t         | 120       | f         | other     | negative  |\n",
       "| 70        | F         | t         | f         | f         | f         | f         | f         | f         | f         | ...       | 1.900000  | t         | 175       | f         | 0.9955284 | f         | 110       | f         | other     | negative  |\n",
       "| 70        | F         | f         | f         | f         | f         | f         | f         | f         | f         | ...       | 1.200000  | t         |  61       | t         | 0.8700000 | t         |  70       | f         | SVI       | negative  |\n",
       "| 18        | F         | t         | f         | f         | f         | f         | f         | f         | f         | ...       | 2.010831  | t         | 183       | t         | 1.3000000 | t         | 141       | f         | other     | negative  |\n",
       "\n"
      ],
      "text/plain": [
       "  age sex on_thyroxine query_on_thyroxine on_antithyroid_medication sick\n",
       "1 41  F   f            f                  f                         f   \n",
       "2 23  F   f            f                  f                         f   \n",
       "3 46  M   f            f                  f                         f   \n",
       "4 70  F   t            f                  f                         f   \n",
       "5 70  F   f            f                  f                         f   \n",
       "6 18  F   t            f                  f                         f   \n",
       "  pregnant thyroid_surgery I131_treatment query_hypothyroid ... T3      \n",
       "1 f        f               f              f                 ... 2.500000\n",
       "2 f        f               f              f                 ... 2.000000\n",
       "3 f        f               f              f                 ... 2.010831\n",
       "4 f        f               f              f                 ... 1.900000\n",
       "5 f        f               f              f                 ... 1.200000\n",
       "6 f        f               f              f                 ... 2.010831\n",
       "  TT4_measured TT4 T4U_measured T4U       FTI_measured FTI TBG_measured\n",
       "1 t            125 t            1.1400000 t            109 f           \n",
       "2 t            102 f            0.9955284 f            110 f           \n",
       "3 t            109 t            0.9100000 t            120 f           \n",
       "4 t            175 f            0.9955284 f            110 f           \n",
       "5 t             61 t            0.8700000 t             70 f           \n",
       "6 t            183 t            1.3000000 t            141 f           \n",
       "  referral_source Class   \n",
       "1 SVHC            negative\n",
       "2 other           negative\n",
       "3 other           negative\n",
       "4 other           negative\n",
       "5 SVI             negative\n",
       "6 other           negative"
      ]
     },
     "metadata": {},
     "output_type": "display_data"
    }
   ],
   "source": [
    "head(df_reduced)"
   ]
  },
  {
   "cell_type": "markdown",
   "id": "986051d8",
   "metadata": {},
   "source": [
    "#### The rest of the columns that contained missing values, the NA was replaced with the mean of the column. This was done since the number of the missing values in each of these columns was relatively large compared to the dataset. So in order not to distort the dataset the records remained with the mean replacing the missing values."
   ]
  },
  {
   "cell_type": "markdown",
   "id": "94518a2f",
   "metadata": {},
   "source": [
    "-----\n",
    "-----\n",
    "###  b. Perform attributeselection on the datasetand state briefly why attribute selection is sometimes important."
   ]
  },
  {
   "cell_type": "code",
   "execution_count": 106,
   "id": "2574e4b9",
   "metadata": {},
   "outputs": [
    {
     "name": "stdout",
     "output_type": "stream",
     "text": [
      "                             Overall\n",
      "FTI                       209.202992\n",
      "FTI_measured                2.983940\n",
      "T3                         54.257477\n",
      "T4U                         4.072637\n",
      "T4U_measured                2.983940\n",
      "TSH                       366.332137\n",
      "TSH_measured                3.619749\n",
      "TT4                       194.437697\n",
      "on_thyroxine              121.421353\n",
      "thyroid_surgery            33.704497\n",
      "age                         0.000000\n",
      "sex                         0.000000\n",
      "query_on_thyroxine          0.000000\n",
      "on_antithyroid_medication   0.000000\n",
      "sick                        0.000000\n",
      "pregnant                    0.000000\n",
      "I131_treatment              0.000000\n",
      "query_hypothyroid           0.000000\n",
      "query_hyperthyroid          0.000000\n",
      "lithium                     0.000000\n",
      "goitre                      0.000000\n",
      "tumor                       0.000000\n",
      "hypopituitary               0.000000\n",
      "psych                       0.000000\n",
      "T3_measured                 0.000000\n",
      "TT4_measured                0.000000\n",
      "TBG_measured                0.000000\n",
      "referral_source             0.000000\n"
     ]
    }
   ],
   "source": [
    "set.seed(7) #set seed to get same results\n",
    "\n",
    "library(mlbench)\n",
    "library(caret)\n",
    "library(caTools)\n",
    "library(rpart)\n",
    "library(rpart.plot)\n",
    "library(dplyr)\n",
    "\n",
    "model <- rpart(Class ~ ., data = df_reduced, method = \"class\") #Making a classification model\n",
    "\n",
    "\n",
    "importance <- varImp(model) #get the importance of features\n",
    "\n",
    "print(importance)\n"
   ]
  },
  {
   "cell_type": "markdown",
   "id": "88b549aa",
   "metadata": {},
   "source": [
    "#### The features here are shown alongside their importance ant it seems that TSH, FTI, TT4, on_thyroxine, T3, and thyroid_surgery are the most important features.\n",
    "\n",
    "#### Attribute selection is important because it reduces the number of features that the model trains with that might have little importance and might affect the accuracy of the model as well as the results. Reducing the number of features by selecting only the important ones reduces the training time and migh as well decrease overfitting."
   ]
  },
  {
   "cell_type": "markdown",
   "id": "31c62d57",
   "metadata": {},
   "source": [
    "-----\n",
    "-----\n",
    "### c. Split the dataset into a train and test set using k-fold cross-validation(k= 10). Create a decision tree model using the selected attributes from your dataset that can predict the type of thyroid disease a patient has.\n",
    "\n",
    "### d.Visualize and describethe first few splits in the decision tree. Extract some rules"
   ]
  },
  {
   "cell_type": "code",
   "execution_count": 111,
   "id": "df3f1b43",
   "metadata": {},
   "outputs": [
    {
     "data": {
      "text/html": [
       "<table>\n",
       "<thead><tr><th scope=col>TSH</th><th scope=col>FTI</th><th scope=col>TT4</th><th scope=col>on_thyroxine</th><th scope=col>T3</th><th scope=col>thyroid_surgery</th><th scope=col>Class</th></tr></thead>\n",
       "<tbody>\n",
       "\t<tr><td>1.30    </td><td>109     </td><td>125     </td><td>f       </td><td>2.500000</td><td>f       </td><td>negative</td></tr>\n",
       "\t<tr><td>4.10    </td><td>110     </td><td>102     </td><td>f       </td><td>2.000000</td><td>f       </td><td>negative</td></tr>\n",
       "\t<tr><td>0.98    </td><td>120     </td><td>109     </td><td>f       </td><td>2.010831</td><td>f       </td><td>negative</td></tr>\n",
       "\t<tr><td>0.16    </td><td>110     </td><td>175     </td><td>t       </td><td>1.900000</td><td>f       </td><td>negative</td></tr>\n",
       "\t<tr><td>0.72    </td><td> 70     </td><td> 61     </td><td>f       </td><td>1.200000</td><td>f       </td><td>negative</td></tr>\n",
       "\t<tr><td>0.03    </td><td>141     </td><td>183     </td><td>t       </td><td>2.010831</td><td>f       </td><td>negative</td></tr>\n",
       "</tbody>\n",
       "</table>\n"
      ],
      "text/latex": [
       "\\begin{tabular}{r|lllllll}\n",
       " TSH & FTI & TT4 & on\\_thyroxine & T3 & thyroid\\_surgery & Class\\\\\n",
       "\\hline\n",
       "\t 1.30     & 109      & 125      & f        & 2.500000 & f        & negative\\\\\n",
       "\t 4.10     & 110      & 102      & f        & 2.000000 & f        & negative\\\\\n",
       "\t 0.98     & 120      & 109      & f        & 2.010831 & f        & negative\\\\\n",
       "\t 0.16     & 110      & 175      & t        & 1.900000 & f        & negative\\\\\n",
       "\t 0.72     &  70      &  61      & f        & 1.200000 & f        & negative\\\\\n",
       "\t 0.03     & 141      & 183      & t        & 2.010831 & f        & negative\\\\\n",
       "\\end{tabular}\n"
      ],
      "text/markdown": [
       "\n",
       "| TSH | FTI | TT4 | on_thyroxine | T3 | thyroid_surgery | Class |\n",
       "|---|---|---|---|---|---|---|\n",
       "| 1.30     | 109      | 125      | f        | 2.500000 | f        | negative |\n",
       "| 4.10     | 110      | 102      | f        | 2.000000 | f        | negative |\n",
       "| 0.98     | 120      | 109      | f        | 2.010831 | f        | negative |\n",
       "| 0.16     | 110      | 175      | t        | 1.900000 | f        | negative |\n",
       "| 0.72     |  70      |  61      | f        | 1.200000 | f        | negative |\n",
       "| 0.03     | 141      | 183      | t        | 2.010831 | f        | negative |\n",
       "\n"
      ],
      "text/plain": [
       "  TSH  FTI TT4 on_thyroxine T3       thyroid_surgery Class   \n",
       "1 1.30 109 125 f            2.500000 f               negative\n",
       "2 4.10 110 102 f            2.000000 f               negative\n",
       "3 0.98 120 109 f            2.010831 f               negative\n",
       "4 0.16 110 175 t            1.900000 f               negative\n",
       "5 0.72  70  61 f            1.200000 f               negative\n",
       "6 0.03 141 183 t            2.010831 f               negative"
      ]
     },
     "metadata": {},
     "output_type": "display_data"
    }
   ],
   "source": [
    "#new data frame with only the important features.\n",
    "df_model = subset(df_reduced, select = c(TSH, FTI, TT4, on_thyroxine, T3, thyroid_surgery, Class) )\n",
    "head(df_model)"
   ]
  },
  {
   "cell_type": "code",
   "execution_count": 112,
   "id": "26cbf798",
   "metadata": {
    "scrolled": false
   },
   "outputs": [
    {
     "name": "stdout",
     "output_type": "stream",
     "text": [
      "CART \n",
      "\n",
      "3620 samples\n",
      "   6 predictor\n",
      "   4 classes: 'compensated_hypothyroid', 'negative', 'primary_hypothyroid', 'secondary_hypothyroid' \n",
      "\n",
      "No pre-processing\n",
      "Resampling: Cross-Validated (10 fold) \n",
      "Summary of sample sizes: 3258, 3258, 3257, 3259, 3257, 3259, ... \n",
      "Resampling results across tuning parameters:\n",
      "\n",
      "  cp          Accuracy   Kappa    \n",
      "  0.00000000  0.9939241  0.9591123\n",
      "  0.04523810  0.9919912  0.9472879\n",
      "  0.09047619  0.9919912  0.9472879\n",
      "  0.13571429  0.9919912  0.9472879\n",
      "  0.18095238  0.9850828  0.9104686\n",
      "  0.22619048  0.9776303  0.8655473\n",
      "  0.27142857  0.9776303  0.8655473\n",
      "  0.31666667  0.9541503  0.7194206\n",
      "  0.36190476  0.9541503  0.7194206\n",
      "  0.40714286  0.9306680  0.2664623\n",
      "\n",
      "Accuracy was used to select the optimal model using the largest value.\n",
      "The final value used for the model was cp = 0.\n"
     ]
    },
    {
     "data": {
      "text/plain": [
       "n= 3620 \n",
       "\n",
       "node), split, n, loss, yval, (yprob)\n",
       "      * denotes terminal node\n",
       "\n",
       " 1) root 3620 280 negative (0.0516574586 0.9226519337 0.0251381215 0.0005524862)  \n",
       "   2) TSH>=6.05 351 164 compensated_hypothyroid (0.5327635328 0.2079772080 0.2592592593 0.0000000000)  \n",
       "     4) FTI>=64.5 261  74 compensated_hypothyroid (0.7164750958 0.2605363985 0.0229885057 0.0000000000)  \n",
       "       8) on_thyroxinet< 0.5 209  22 compensated_hypothyroid (0.8947368421 0.0765550239 0.0287081340 0.0000000000)  \n",
       "        16) TT4< 149.5 201  14 compensated_hypothyroid (0.9303482587 0.0398009950 0.0298507463 0.0000000000)  \n",
       "          32) thyroid_surgeryt< 0.5 194   7 compensated_hypothyroid (0.9639175258 0.0051546392 0.0309278351 0.0000000000)  \n",
       "            64) TT4>=53.5 187   2 compensated_hypothyroid (0.9893048128 0.0000000000 0.0106951872 0.0000000000) *\n",
       "            65) TT4< 53.5 7   3 primary_hypothyroid (0.2857142857 0.1428571429 0.5714285714 0.0000000000) *\n",
       "          33) thyroid_surgeryt>=0.5 7   0 negative (0.0000000000 1.0000000000 0.0000000000 0.0000000000) *\n",
       "        17) TT4>=149.5 8   0 negative (0.0000000000 1.0000000000 0.0000000000 0.0000000000) *\n",
       "       9) on_thyroxinet>=0.5 52   0 negative (0.0000000000 1.0000000000 0.0000000000 0.0000000000) *\n",
       "     5) FTI< 64.5 90   5 primary_hypothyroid (0.0000000000 0.0555555556 0.9444444444 0.0000000000) *\n",
       "   3) TSH< 6.05 3269   2 negative (0.0000000000 0.9993881921 0.0000000000 0.0006118079) *"
      ]
     },
     "metadata": {},
     "output_type": "display_data"
    },
    {
     "data": {
      "text/html": [
       "<table>\n",
       "<thead><tr><th scope=col>Accuracy</th><th scope=col>Kappa</th><th scope=col>Resample</th></tr></thead>\n",
       "<tbody>\n",
       "\t<tr><td>1.0000000</td><td>1.0000000</td><td>Fold02   </td></tr>\n",
       "\t<tr><td>0.9944751</td><td>0.9632413</td><td>Fold01   </td></tr>\n",
       "\t<tr><td>0.9944904</td><td>0.9638050</td><td>Fold05   </td></tr>\n",
       "\t<tr><td>0.9972299</td><td>0.9803280</td><td>Fold06   </td></tr>\n",
       "\t<tr><td>0.9944751</td><td>0.9626052</td><td>Fold10   </td></tr>\n",
       "\t<tr><td>0.9889197</td><td>0.9252472</td><td>Fold04   </td></tr>\n",
       "\t<tr><td>0.9944751</td><td>0.9625859</td><td>Fold08   </td></tr>\n",
       "\t<tr><td>0.9944598</td><td>0.9620020</td><td>Fold09   </td></tr>\n",
       "\t<tr><td>0.9862259</td><td>0.9080640</td><td>Fold03   </td></tr>\n",
       "\t<tr><td>0.9944904</td><td>0.9632442</td><td>Fold07   </td></tr>\n",
       "</tbody>\n",
       "</table>\n"
      ],
      "text/latex": [
       "\\begin{tabular}{r|lll}\n",
       " Accuracy & Kappa & Resample\\\\\n",
       "\\hline\n",
       "\t 1.0000000 & 1.0000000 & Fold02   \\\\\n",
       "\t 0.9944751 & 0.9632413 & Fold01   \\\\\n",
       "\t 0.9944904 & 0.9638050 & Fold05   \\\\\n",
       "\t 0.9972299 & 0.9803280 & Fold06   \\\\\n",
       "\t 0.9944751 & 0.9626052 & Fold10   \\\\\n",
       "\t 0.9889197 & 0.9252472 & Fold04   \\\\\n",
       "\t 0.9944751 & 0.9625859 & Fold08   \\\\\n",
       "\t 0.9944598 & 0.9620020 & Fold09   \\\\\n",
       "\t 0.9862259 & 0.9080640 & Fold03   \\\\\n",
       "\t 0.9944904 & 0.9632442 & Fold07   \\\\\n",
       "\\end{tabular}\n"
      ],
      "text/markdown": [
       "\n",
       "| Accuracy | Kappa | Resample |\n",
       "|---|---|---|\n",
       "| 1.0000000 | 1.0000000 | Fold02    |\n",
       "| 0.9944751 | 0.9632413 | Fold01    |\n",
       "| 0.9944904 | 0.9638050 | Fold05    |\n",
       "| 0.9972299 | 0.9803280 | Fold06    |\n",
       "| 0.9944751 | 0.9626052 | Fold10    |\n",
       "| 0.9889197 | 0.9252472 | Fold04    |\n",
       "| 0.9944751 | 0.9625859 | Fold08    |\n",
       "| 0.9944598 | 0.9620020 | Fold09    |\n",
       "| 0.9862259 | 0.9080640 | Fold03    |\n",
       "| 0.9944904 | 0.9632442 | Fold07    |\n",
       "\n"
      ],
      "text/plain": [
       "   Accuracy  Kappa     Resample\n",
       "1  1.0000000 1.0000000 Fold02  \n",
       "2  0.9944751 0.9632413 Fold01  \n",
       "3  0.9944904 0.9638050 Fold05  \n",
       "4  0.9972299 0.9803280 Fold06  \n",
       "5  0.9944751 0.9626052 Fold10  \n",
       "6  0.9889197 0.9252472 Fold04  \n",
       "7  0.9944751 0.9625859 Fold08  \n",
       "8  0.9944598 0.9620020 Fold09  \n",
       "9  0.9862259 0.9080640 Fold03  \n",
       "10 0.9944904 0.9632442 Fold07  "
      ]
     },
     "metadata": {},
     "output_type": "display_data"
    },
    {
     "data": {
      "image/png": "[encoded data removed]",
      "text/plain": [
       "plot without title"
      ]
     },
     "metadata": {},
     "output_type": "display_data"
    }
   ],
   "source": [
    "set.seed(123) \n",
    "\n",
    "\n",
    "ctrl <- trainControl(method = \"cv\", number = 10) #cross validation with 10 kfolds\n",
    "\n",
    "#decision tree using the cv kfolds\n",
    "dtree_fit_gini <- train(Class~., data = df_model, method = \"rpart\", parms = list(split = \"gini\"), trControl = ctrl, tuneLength = 10)\n",
    "              \n",
    "print(dtree_fit_gini) #summary of k-fold CV, how the model performed on testing data\n",
    "\n",
    "dtree_fit_gini$finalModel #final model\n",
    "#prp(dtree_fit_gini$finalModel, box.palette = \"Blues\", tweak = 1, type = 0) #display the decision tree\n",
    "#rpart.plot(dtree_fit_gini$finalModel, tweak = 1.1, type = 5) #display the decision tree\n",
    "rpart.plot(dtree_fit_gini$finalModel, tweak = 1.1, type = 5, clip.right.labs = FALSE) #display the decision tree\n",
    "\n",
    "dtree_fit_gini$resample #prediction of each fold\n"
   ]
  },
  {
   "cell_type": "markdown",
   "id": "ed675d96",
   "metadata": {},
   "source": [
    "#### After splitting the data into training and testing using 10 kfolds cross validation and running a decision tree model on the selected attributes the previous image visualizes the tree. The first split of the tree is whether TSH>=6.1 if not then the patient is negative, else we check if FTI>=65 if not then the patient is diagnosed with primary hyperthyroid, else we check if on_thyroxine is false if not then the patient is negative if it is true we check if TT4<150 if not then the patient is negative if it is <150 then we check TT4 >=54 if yes then the patient is diagnosed with primary hyperthyroid if not then the patinet is diagnosed with compensated hyperthyroid.\n",
    "\n",
    "#### General rules:\n",
    " - TSH < 6.1 -> negative\n",
    " - TSH >=6.1 & FTI < 65 -> primary hyperthyroid\n",
    " - TSH >=6.1 & FTI >= 65 & on_thyroxine = true -> negative\n",
    " - TSH >=6.1 & FTI >= 65 & on_thyroxine = false & TT4 > 150 -> negative\n",
    " - TSH >=6.1 & FTI >= 65 & on_thyroxine = false &   54 <= TT4 < 150 & thyroid_surgery = false -> compensated hyperthyroid\n",
    " - TSH >=6.1 & FTI >= 65 & on_thyroxine = false & TT4 < 54 & thyroid_surgery = false -> primary hyperthyroid\n",
    " \n",
    "#### The highest accuracy obtaied was at cp = 0, accuracy = 99.39%. One drawback is that there is no rule to predict the secondary hyperthyroid, which is expected since there are not enough records of patients diagnosed with it, only 2."
   ]
  },
  {
   "cell_type": "markdown",
   "id": "22bfda67",
   "metadata": {},
   "source": [
    "-----\n",
    "-----\n",
    "### e. Try different ways to improve your decision tree algorithm, e.g., use different splitting strategies, prune tree after splitting."
   ]
  },
  {
   "cell_type": "markdown",
   "id": "a9f5e574",
   "metadata": {},
   "source": [
    "> #### Increasing the number of kfolds from 10 to 100"
   ]
  },
  {
   "cell_type": "code",
   "execution_count": 18,
   "id": "f4a307de",
   "metadata": {
    "scrolled": false
   },
   "outputs": [
    {
     "name": "stdout",
     "output_type": "stream",
     "text": [
      "CART \n",
      "\n",
      "3620 samples\n",
      "   6 predictor\n",
      "   4 classes: 'compensated_hypothyroid', 'negative', 'primary_hypothyroid', 'secondary_hypothyroid' \n",
      "\n",
      "No pre-processing\n",
      "Resampling: Cross-Validated (100 fold) \n",
      "Summary of sample sizes: 3584, 3583, 3583, 3584, 3583, 3584, ... \n",
      "Resampling results across tuning parameters:\n",
      "\n",
      "  cp           Accuracy   Kappa    \n",
      "  0.000000000  0.9936703  0.9623224\n",
      "  0.004112554  0.9936703  0.9622972\n",
      "  0.008225108  0.9942259  0.9658439\n",
      "  0.012337662  0.9942259  0.9658439\n",
      "  0.016450216  0.9942259  0.9658439\n",
      "  0.020562771  0.9942259  0.9658439\n",
      "  0.024675325  0.9942259  0.9658439\n",
      "  0.028787879  0.9920187  0.9531250\n",
      "  0.032900433  0.9920187  0.9531250\n",
      "  0.037012987  0.9920187  0.9531250\n",
      "  0.041125541  0.9920187  0.9531250\n",
      "  0.045238095  0.9920187  0.9531250\n",
      "  0.049350649  0.9920187  0.9531250\n",
      "  0.053463203  0.9920187  0.9531250\n",
      "  0.057575758  0.9920187  0.9531250\n",
      "  0.061688312  0.9920187  0.9531250\n",
      "  0.065800866  0.9920187  0.9531250\n",
      "  0.069913420  0.9920187  0.9531250\n",
      "  0.074025974  0.9920187  0.9531250\n",
      "  0.078138528  0.9920187  0.9531250\n",
      "  0.082251082  0.9920187  0.9531250\n",
      "  0.086363636  0.9920187  0.9531250\n",
      "  0.090476190  0.9920187  0.9531250\n",
      "  0.094588745  0.9920187  0.9531250\n",
      "  0.098701299  0.9920187  0.9531250\n",
      "  0.102813853  0.9920187  0.9531250\n",
      "  0.106926407  0.9920187  0.9531250\n",
      "  0.111038961  0.9920187  0.9531250\n",
      "  0.115151515  0.9920187  0.9531250\n",
      "  0.119264069  0.9920187  0.9531250\n",
      "  0.123376623  0.9920187  0.9531250\n",
      "  0.127489177  0.9920187  0.9531250\n",
      "  0.131601732  0.9920187  0.9531250\n",
      "  0.135714286  0.9920187  0.9531250\n",
      "  0.139826840  0.9920187  0.9531250\n",
      "  0.143939394  0.9920187  0.9531250\n",
      "  0.148051948  0.9920187  0.9531250\n",
      "  0.152164502  0.9920187  0.9531250\n",
      "  0.156277056  0.9920187  0.9531250\n",
      "  0.160389610  0.9920187  0.9531250\n",
      "  0.164502165  0.9920187  0.9531250\n",
      "  0.168614719  0.9920187  0.9531250\n",
      "  0.172727273  0.9920187  0.9531250\n",
      "  0.176839827  0.9920187  0.9531250\n",
      "  0.180952381  0.9864447  0.9234445\n",
      "  0.185064935  0.9775987  0.8735700\n",
      "  0.189177489  0.9775987  0.8735700\n",
      "  0.193290043  0.9775987  0.8735700\n",
      "  0.197402597  0.9775987  0.8735700\n",
      "  0.201515152  0.9775987  0.8735700\n",
      "  0.205627706  0.9775987  0.8735700\n",
      "  0.209740260  0.9775987  0.8735700\n",
      "  0.213852814  0.9775987  0.8735700\n",
      "  0.217965368  0.9775987  0.8735700\n",
      "  0.222077922  0.9775987  0.8735700\n",
      "  0.226190476  0.9775987  0.8735700\n",
      "  0.230303030  0.9775987  0.8735700\n",
      "  0.234415584  0.9775987  0.8735700\n",
      "  0.238528139  0.9775987  0.8735700\n",
      "  0.242640693  0.9775987  0.8735700\n",
      "  0.246753247  0.9775987  0.8735700\n",
      "  0.250865801  0.9775987  0.8735700\n",
      "  0.254978355  0.9775987  0.8735700\n",
      "  0.259090909  0.9775987  0.8735700\n",
      "  0.263203463  0.9775987  0.8735700\n",
      "  0.267316017  0.9775987  0.8735700\n",
      "  0.271428571  0.9775987  0.8735700\n",
      "  0.275541126  0.9775987  0.8735700\n",
      "  0.279653680  0.9775987  0.8735700\n",
      "  0.283766234  0.9775987  0.8735700\n",
      "  0.287878788  0.9775987  0.8735700\n",
      "  0.291991342  0.9775987  0.8735700\n",
      "  0.296103896  0.9775987  0.8735700\n",
      "  0.300216450  0.9775987  0.8735700\n",
      "  0.304329004  0.9547062  0.7298465\n",
      "  0.308441558  0.9541727  0.7267536\n",
      "  0.312554113  0.9541727  0.7267536\n",
      "  0.316666667  0.9541727  0.7267536\n",
      "  0.320779221  0.9541727  0.7267536\n",
      "  0.324891775  0.9541727  0.7267536\n",
      "  0.329004329  0.9541727  0.7267536\n",
      "  0.333116883  0.9541727  0.7267536\n",
      "  0.337229437  0.9541727  0.7267536\n",
      "  0.341341991  0.9541727  0.7267536\n",
      "  0.345454545  0.9541727  0.7267536\n",
      "  0.349567100  0.9541727  0.7267536\n",
      "  0.353679654  0.9541727  0.7267536\n",
      "  0.357792208  0.9541727  0.7267536\n",
      "  0.361904762  0.9541727  0.7267536\n",
      "  0.366017316  0.9541727  0.7267536\n",
      "  0.370129870  0.9541727  0.7267536\n",
      "  0.374242424  0.9541727  0.7267536\n",
      "  0.378354978  0.9541727  0.7267536\n",
      "  0.382467532  0.9541727  0.7267536\n",
      "  0.386580087  0.9541727  0.7267536\n",
      "  0.390692641  0.9541727  0.7267536\n",
      "  0.394805195  0.9541727  0.7267536\n",
      "  0.398917749  0.9541727  0.7267536\n",
      "  0.403030303  0.9530299  0.7067536\n",
      "  0.407142857  0.9287940  0.3177728\n",
      "\n",
      "Accuracy was used to select the optimal model using the largest value.\n",
      "The final value used for the model was cp = 0.02467532.\n"
     ]
    },
    {
     "data": {
      "text/plain": [
       "n= 3620 \n",
       "\n",
       "node), split, n, loss, yval, (yprob)\n",
       "      * denotes terminal node\n",
       "\n",
       " 1) root 3620 280 negative (0.0516574586 0.9226519337 0.0251381215 0.0005524862)  \n",
       "   2) TSH>=6.05 351 164 compensated_hypothyroid (0.5327635328 0.2079772080 0.2592592593 0.0000000000)  \n",
       "     4) FTI>=64.5 261  74 compensated_hypothyroid (0.7164750958 0.2605363985 0.0229885057 0.0000000000)  \n",
       "       8) on_thyroxinet< 0.5 209  22 compensated_hypothyroid (0.8947368421 0.0765550239 0.0287081340 0.0000000000)  \n",
       "        16) TT4< 149.5 201  14 compensated_hypothyroid (0.9303482587 0.0398009950 0.0298507463 0.0000000000)  \n",
       "          32) thyroid_surgeryt< 0.5 194   7 compensated_hypothyroid (0.9639175258 0.0051546392 0.0309278351 0.0000000000) *\n",
       "          33) thyroid_surgeryt>=0.5 7   0 negative (0.0000000000 1.0000000000 0.0000000000 0.0000000000) *\n",
       "        17) TT4>=149.5 8   0 negative (0.0000000000 1.0000000000 0.0000000000 0.0000000000) *\n",
       "       9) on_thyroxinet>=0.5 52   0 negative (0.0000000000 1.0000000000 0.0000000000 0.0000000000) *\n",
       "     5) FTI< 64.5 90   5 primary_hypothyroid (0.0000000000 0.0555555556 0.9444444444 0.0000000000) *\n",
       "   3) TSH< 6.05 3269   2 negative (0.0000000000 0.9993881921 0.0000000000 0.0006118079) *"
      ]
     },
     "metadata": {},
     "output_type": "display_data"
    },
    {
     "data": {
      "text/html": [
       "<table>\n",
       "<thead><tr><th scope=col>Accuracy</th><th scope=col>Kappa</th><th scope=col>Resample</th></tr></thead>\n",
       "<tbody>\n",
       "\t<tr><td>1.0000000</td><td>1.0000000</td><td>Fold021  </td></tr>\n",
       "\t<tr><td>1.0000000</td><td>1.0000000</td><td>Fold065  </td></tr>\n",
       "\t<tr><td>1.0000000</td><td>1.0000000</td><td>Fold054  </td></tr>\n",
       "\t<tr><td>1.0000000</td><td>1.0000000</td><td>Fold032  </td></tr>\n",
       "\t<tr><td>1.0000000</td><td>1.0000000</td><td>Fold010  </td></tr>\n",
       "\t<tr><td>1.0000000</td><td>1.0000000</td><td>Fold043  </td></tr>\n",
       "\t<tr><td>0.9722222</td><td>0.8461538</td><td>Fold099  </td></tr>\n",
       "\t<tr><td>1.0000000</td><td>1.0000000</td><td>Fold016  </td></tr>\n",
       "\t<tr><td>1.0000000</td><td>1.0000000</td><td>Fold087  </td></tr>\n",
       "\t<tr><td>1.0000000</td><td>1.0000000</td><td>Fold076  </td></tr>\n",
       "\t<tr><td>1.0000000</td><td>1.0000000</td><td>Fold033  </td></tr>\n",
       "\t<tr><td>1.0000000</td><td>1.0000000</td><td>Fold023  </td></tr>\n",
       "\t<tr><td>1.0000000</td><td>1.0000000</td><td>Fold066  </td></tr>\n",
       "\t<tr><td>1.0000000</td><td>1.0000000</td><td>Fold034  </td></tr>\n",
       "\t<tr><td>1.0000000</td><td>1.0000000</td><td>Fold100  </td></tr>\n",
       "\t<tr><td>0.9729730</td><td>0.8464730</td><td>Fold098  </td></tr>\n",
       "\t<tr><td>1.0000000</td><td>1.0000000</td><td>Fold094  </td></tr>\n",
       "\t<tr><td>0.9722222</td><td>0.8208955</td><td>Fold011  </td></tr>\n",
       "\t<tr><td>1.0000000</td><td>1.0000000</td><td>Fold088  </td></tr>\n",
       "\t<tr><td>1.0000000</td><td>1.0000000</td><td>Fold055  </td></tr>\n",
       "\t<tr><td>1.0000000</td><td>1.0000000</td><td>Fold005  </td></tr>\n",
       "\t<tr><td>1.0000000</td><td>1.0000000</td><td>Fold022  </td></tr>\n",
       "\t<tr><td>1.0000000</td><td>1.0000000</td><td>Fold003  </td></tr>\n",
       "\t<tr><td>1.0000000</td><td>1.0000000</td><td>Fold056  </td></tr>\n",
       "\t<tr><td>1.0000000</td><td>1.0000000</td><td>Fold062  </td></tr>\n",
       "\t<tr><td>1.0000000</td><td>1.0000000</td><td>Fold050  </td></tr>\n",
       "\t<tr><td>1.0000000</td><td>1.0000000</td><td>Fold067  </td></tr>\n",
       "\t<tr><td>1.0000000</td><td>1.0000000</td><td>Fold082  </td></tr>\n",
       "\t<tr><td>1.0000000</td><td>1.0000000</td><td>Fold058  </td></tr>\n",
       "\t<tr><td>0.9722222</td><td>0.8454936</td><td>Fold061  </td></tr>\n",
       "\t<tr><td>...</td><td>...</td><td>...</td></tr>\n",
       "\t<tr><td>1.0000000</td><td>1.0000000</td><td>Fold097  </td></tr>\n",
       "\t<tr><td>1.0000000</td><td>1.0000000</td><td>Fold063  </td></tr>\n",
       "\t<tr><td>1.0000000</td><td>1.0000000</td><td>Fold046  </td></tr>\n",
       "\t<tr><td>1.0000000</td><td>1.0000000</td><td>Fold012  </td></tr>\n",
       "\t<tr><td>1.0000000</td><td>1.0000000</td><td>Fold093  </td></tr>\n",
       "\t<tr><td>1.0000000</td><td>1.0000000</td><td>Fold059  </td></tr>\n",
       "\t<tr><td>0.9459459</td><td>0.6916667</td><td>Fold091  </td></tr>\n",
       "\t<tr><td>1.0000000</td><td>1.0000000</td><td>Fold074  </td></tr>\n",
       "\t<tr><td>1.0000000</td><td>1.0000000</td><td>Fold040  </td></tr>\n",
       "\t<tr><td>0.9722222</td><td>0.7857143</td><td>Fold057  </td></tr>\n",
       "\t<tr><td>1.0000000</td><td>1.0000000</td><td>Fold006  </td></tr>\n",
       "\t<tr><td>1.0000000</td><td>1.0000000</td><td>Fold070  </td></tr>\n",
       "\t<tr><td>1.0000000</td><td>1.0000000</td><td>Fold036  </td></tr>\n",
       "\t<tr><td>0.9714286</td><td>0.7891566</td><td>Fold053  </td></tr>\n",
       "\t<tr><td>1.0000000</td><td>1.0000000</td><td>Fold085  </td></tr>\n",
       "\t<tr><td>1.0000000</td><td>1.0000000</td><td>Fold051  </td></tr>\n",
       "\t<tr><td>1.0000000</td><td>1.0000000</td><td>Fold068  </td></tr>\n",
       "\t<tr><td>1.0000000</td><td>1.0000000</td><td>Fold017  </td></tr>\n",
       "\t<tr><td>1.0000000</td><td>1.0000000</td><td>Fold081  </td></tr>\n",
       "\t<tr><td>0.9729730</td><td>0.8471074</td><td>Fold047  </td></tr>\n",
       "\t<tr><td>1.0000000</td><td>1.0000000</td><td>Fold064  </td></tr>\n",
       "\t<tr><td>1.0000000</td><td>1.0000000</td><td>Fold096  </td></tr>\n",
       "\t<tr><td>1.0000000</td><td>1.0000000</td><td>Fold079  </td></tr>\n",
       "\t<tr><td>1.0000000</td><td>1.0000000</td><td>Fold045  </td></tr>\n",
       "\t<tr><td>1.0000000</td><td>1.0000000</td><td>Fold028  </td></tr>\n",
       "\t<tr><td>1.0000000</td><td>1.0000000</td><td>Fold092  </td></tr>\n",
       "\t<tr><td>1.0000000</td><td>1.0000000</td><td>Fold075  </td></tr>\n",
       "\t<tr><td>1.0000000</td><td>1.0000000</td><td>Fold041  </td></tr>\n",
       "\t<tr><td>0.9722222</td><td>0.8208955</td><td>Fold073  </td></tr>\n",
       "\t<tr><td>0.9722222</td><td>0.8454936</td><td>Fold090  </td></tr>\n",
       "</tbody>\n",
       "</table>\n"
      ],
      "text/latex": [
       "\\begin{tabular}{r|lll}\n",
       " Accuracy & Kappa & Resample\\\\\n",
       "\\hline\n",
       "\t 1.0000000 & 1.0000000 & Fold021  \\\\\n",
       "\t 1.0000000 & 1.0000000 & Fold065  \\\\\n",
       "\t 1.0000000 & 1.0000000 & Fold054  \\\\\n",
       "\t 1.0000000 & 1.0000000 & Fold032  \\\\\n",
       "\t 1.0000000 & 1.0000000 & Fold010  \\\\\n",
       "\t 1.0000000 & 1.0000000 & Fold043  \\\\\n",
       "\t 0.9722222 & 0.8461538 & Fold099  \\\\\n",
       "\t 1.0000000 & 1.0000000 & Fold016  \\\\\n",
       "\t 1.0000000 & 1.0000000 & Fold087  \\\\\n",
       "\t 1.0000000 & 1.0000000 & Fold076  \\\\\n",
       "\t 1.0000000 & 1.0000000 & Fold033  \\\\\n",
       "\t 1.0000000 & 1.0000000 & Fold023  \\\\\n",
       "\t 1.0000000 & 1.0000000 & Fold066  \\\\\n",
       "\t 1.0000000 & 1.0000000 & Fold034  \\\\\n",
       "\t 1.0000000 & 1.0000000 & Fold100  \\\\\n",
       "\t 0.9729730 & 0.8464730 & Fold098  \\\\\n",
       "\t 1.0000000 & 1.0000000 & Fold094  \\\\\n",
       "\t 0.9722222 & 0.8208955 & Fold011  \\\\\n",
       "\t 1.0000000 & 1.0000000 & Fold088  \\\\\n",
       "\t 1.0000000 & 1.0000000 & Fold055  \\\\\n",
       "\t 1.0000000 & 1.0000000 & Fold005  \\\\\n",
       "\t 1.0000000 & 1.0000000 & Fold022  \\\\\n",
       "\t 1.0000000 & 1.0000000 & Fold003  \\\\\n",
       "\t 1.0000000 & 1.0000000 & Fold056  \\\\\n",
       "\t 1.0000000 & 1.0000000 & Fold062  \\\\\n",
       "\t 1.0000000 & 1.0000000 & Fold050  \\\\\n",
       "\t 1.0000000 & 1.0000000 & Fold067  \\\\\n",
       "\t 1.0000000 & 1.0000000 & Fold082  \\\\\n",
       "\t 1.0000000 & 1.0000000 & Fold058  \\\\\n",
       "\t 0.9722222 & 0.8454936 & Fold061  \\\\\n",
       "\t ... & ... & ...\\\\\n",
       "\t 1.0000000 & 1.0000000 & Fold097  \\\\\n",
       "\t 1.0000000 & 1.0000000 & Fold063  \\\\\n",
       "\t 1.0000000 & 1.0000000 & Fold046  \\\\\n",
       "\t 1.0000000 & 1.0000000 & Fold012  \\\\\n",
       "\t 1.0000000 & 1.0000000 & Fold093  \\\\\n",
       "\t 1.0000000 & 1.0000000 & Fold059  \\\\\n",
       "\t 0.9459459 & 0.6916667 & Fold091  \\\\\n",
       "\t 1.0000000 & 1.0000000 & Fold074  \\\\\n",
       "\t 1.0000000 & 1.0000000 & Fold040  \\\\\n",
       "\t 0.9722222 & 0.7857143 & Fold057  \\\\\n",
       "\t 1.0000000 & 1.0000000 & Fold006  \\\\\n",
       "\t 1.0000000 & 1.0000000 & Fold070  \\\\\n",
       "\t 1.0000000 & 1.0000000 & Fold036  \\\\\n",
       "\t 0.9714286 & 0.7891566 & Fold053  \\\\\n",
       "\t 1.0000000 & 1.0000000 & Fold085  \\\\\n",
       "\t 1.0000000 & 1.0000000 & Fold051  \\\\\n",
       "\t 1.0000000 & 1.0000000 & Fold068  \\\\\n",
       "\t 1.0000000 & 1.0000000 & Fold017  \\\\\n",
       "\t 1.0000000 & 1.0000000 & Fold081  \\\\\n",
       "\t 0.9729730 & 0.8471074 & Fold047  \\\\\n",
       "\t 1.0000000 & 1.0000000 & Fold064  \\\\\n",
       "\t 1.0000000 & 1.0000000 & Fold096  \\\\\n",
       "\t 1.0000000 & 1.0000000 & Fold079  \\\\\n",
       "\t 1.0000000 & 1.0000000 & Fold045  \\\\\n",
       "\t 1.0000000 & 1.0000000 & Fold028  \\\\\n",
       "\t 1.0000000 & 1.0000000 & Fold092  \\\\\n",
       "\t 1.0000000 & 1.0000000 & Fold075  \\\\\n",
       "\t 1.0000000 & 1.0000000 & Fold041  \\\\\n",
       "\t 0.9722222 & 0.8208955 & Fold073  \\\\\n",
       "\t 0.9722222 & 0.8454936 & Fold090  \\\\\n",
       "\\end{tabular}\n"
      ],
      "text/markdown": [
       "\n",
       "| Accuracy | Kappa | Resample |\n",
       "|---|---|---|\n",
       "| 1.0000000 | 1.0000000 | Fold021   |\n",
       "| 1.0000000 | 1.0000000 | Fold065   |\n",
       "| 1.0000000 | 1.0000000 | Fold054   |\n",
       "| 1.0000000 | 1.0000000 | Fold032   |\n",
       "| 1.0000000 | 1.0000000 | Fold010   |\n",
       "| 1.0000000 | 1.0000000 | Fold043   |\n",
       "| 0.9722222 | 0.8461538 | Fold099   |\n",
       "| 1.0000000 | 1.0000000 | Fold016   |\n",
       "| 1.0000000 | 1.0000000 | Fold087   |\n",
       "| 1.0000000 | 1.0000000 | Fold076   |\n",
       "| 1.0000000 | 1.0000000 | Fold033   |\n",
       "| 1.0000000 | 1.0000000 | Fold023   |\n",
       "| 1.0000000 | 1.0000000 | Fold066   |\n",
       "| 1.0000000 | 1.0000000 | Fold034   |\n",
       "| 1.0000000 | 1.0000000 | Fold100   |\n",
       "| 0.9729730 | 0.8464730 | Fold098   |\n",
       "| 1.0000000 | 1.0000000 | Fold094   |\n",
       "| 0.9722222 | 0.8208955 | Fold011   |\n",
       "| 1.0000000 | 1.0000000 | Fold088   |\n",
       "| 1.0000000 | 1.0000000 | Fold055   |\n",
       "| 1.0000000 | 1.0000000 | Fold005   |\n",
       "| 1.0000000 | 1.0000000 | Fold022   |\n",
       "| 1.0000000 | 1.0000000 | Fold003   |\n",
       "| 1.0000000 | 1.0000000 | Fold056   |\n",
       "| 1.0000000 | 1.0000000 | Fold062   |\n",
       "| 1.0000000 | 1.0000000 | Fold050   |\n",
       "| 1.0000000 | 1.0000000 | Fold067   |\n",
       "| 1.0000000 | 1.0000000 | Fold082   |\n",
       "| 1.0000000 | 1.0000000 | Fold058   |\n",
       "| 0.9722222 | 0.8454936 | Fold061   |\n",
       "| ... | ... | ... |\n",
       "| 1.0000000 | 1.0000000 | Fold097   |\n",
       "| 1.0000000 | 1.0000000 | Fold063   |\n",
       "| 1.0000000 | 1.0000000 | Fold046   |\n",
       "| 1.0000000 | 1.0000000 | Fold012   |\n",
       "| 1.0000000 | 1.0000000 | Fold093   |\n",
       "| 1.0000000 | 1.0000000 | Fold059   |\n",
       "| 0.9459459 | 0.6916667 | Fold091   |\n",
       "| 1.0000000 | 1.0000000 | Fold074   |\n",
       "| 1.0000000 | 1.0000000 | Fold040   |\n",
       "| 0.9722222 | 0.7857143 | Fold057   |\n",
       "| 1.0000000 | 1.0000000 | Fold006   |\n",
       "| 1.0000000 | 1.0000000 | Fold070   |\n",
       "| 1.0000000 | 1.0000000 | Fold036   |\n",
       "| 0.9714286 | 0.7891566 | Fold053   |\n",
       "| 1.0000000 | 1.0000000 | Fold085   |\n",
       "| 1.0000000 | 1.0000000 | Fold051   |\n",
       "| 1.0000000 | 1.0000000 | Fold068   |\n",
       "| 1.0000000 | 1.0000000 | Fold017   |\n",
       "| 1.0000000 | 1.0000000 | Fold081   |\n",
       "| 0.9729730 | 0.8471074 | Fold047   |\n",
       "| 1.0000000 | 1.0000000 | Fold064   |\n",
       "| 1.0000000 | 1.0000000 | Fold096   |\n",
       "| 1.0000000 | 1.0000000 | Fold079   |\n",
       "| 1.0000000 | 1.0000000 | Fold045   |\n",
       "| 1.0000000 | 1.0000000 | Fold028   |\n",
       "| 1.0000000 | 1.0000000 | Fold092   |\n",
       "| 1.0000000 | 1.0000000 | Fold075   |\n",
       "| 1.0000000 | 1.0000000 | Fold041   |\n",
       "| 0.9722222 | 0.8208955 | Fold073   |\n",
       "| 0.9722222 | 0.8454936 | Fold090   |\n",
       "\n"
      ],
      "text/plain": [
       "    Accuracy  Kappa     Resample\n",
       "1   1.0000000 1.0000000 Fold021 \n",
       "2   1.0000000 1.0000000 Fold065 \n",
       "3   1.0000000 1.0000000 Fold054 \n",
       "4   1.0000000 1.0000000 Fold032 \n",
       "5   1.0000000 1.0000000 Fold010 \n",
       "6   1.0000000 1.0000000 Fold043 \n",
       "7   0.9722222 0.8461538 Fold099 \n",
       "8   1.0000000 1.0000000 Fold016 \n",
       "9   1.0000000 1.0000000 Fold087 \n",
       "10  1.0000000 1.0000000 Fold076 \n",
       "11  1.0000000 1.0000000 Fold033 \n",
       "12  1.0000000 1.0000000 Fold023 \n",
       "13  1.0000000 1.0000000 Fold066 \n",
       "14  1.0000000 1.0000000 Fold034 \n",
       "15  1.0000000 1.0000000 Fold100 \n",
       "16  0.9729730 0.8464730 Fold098 \n",
       "17  1.0000000 1.0000000 Fold094 \n",
       "18  0.9722222 0.8208955 Fold011 \n",
       "19  1.0000000 1.0000000 Fold088 \n",
       "20  1.0000000 1.0000000 Fold055 \n",
       "21  1.0000000 1.0000000 Fold005 \n",
       "22  1.0000000 1.0000000 Fold022 \n",
       "23  1.0000000 1.0000000 Fold003 \n",
       "24  1.0000000 1.0000000 Fold056 \n",
       "25  1.0000000 1.0000000 Fold062 \n",
       "26  1.0000000 1.0000000 Fold050 \n",
       "27  1.0000000 1.0000000 Fold067 \n",
       "28  1.0000000 1.0000000 Fold082 \n",
       "29  1.0000000 1.0000000 Fold058 \n",
       "30  0.9722222 0.8454936 Fold061 \n",
       "... ...       ...       ...     \n",
       "71  1.0000000 1.0000000 Fold097 \n",
       "72  1.0000000 1.0000000 Fold063 \n",
       "73  1.0000000 1.0000000 Fold046 \n",
       "74  1.0000000 1.0000000 Fold012 \n",
       "75  1.0000000 1.0000000 Fold093 \n",
       "76  1.0000000 1.0000000 Fold059 \n",
       "77  0.9459459 0.6916667 Fold091 \n",
       "78  1.0000000 1.0000000 Fold074 \n",
       "79  1.0000000 1.0000000 Fold040 \n",
       "80  0.9722222 0.7857143 Fold057 \n",
       "81  1.0000000 1.0000000 Fold006 \n",
       "82  1.0000000 1.0000000 Fold070 \n",
       "83  1.0000000 1.0000000 Fold036 \n",
       "84  0.9714286 0.7891566 Fold053 \n",
       "85  1.0000000 1.0000000 Fold085 \n",
       "86  1.0000000 1.0000000 Fold051 \n",
       "87  1.0000000 1.0000000 Fold068 \n",
       "88  1.0000000 1.0000000 Fold017 \n",
       "89  1.0000000 1.0000000 Fold081 \n",
       "90  0.9729730 0.8471074 Fold047 \n",
       "91  1.0000000 1.0000000 Fold064 \n",
       "92  1.0000000 1.0000000 Fold096 \n",
       "93  1.0000000 1.0000000 Fold079 \n",
       "94  1.0000000 1.0000000 Fold045 \n",
       "95  1.0000000 1.0000000 Fold028 \n",
       "96  1.0000000 1.0000000 Fold092 \n",
       "97  1.0000000 1.0000000 Fold075 \n",
       "98  1.0000000 1.0000000 Fold041 \n",
       "99  0.9722222 0.8208955 Fold073 \n",
       "100 0.9722222 0.8454936 Fold090 "
      ]
     },
     "metadata": {},
     "output_type": "display_data"
    },
    {
     "data": {
      "image/png": "[encoded data removed]",
      "text/plain": [
       "plot without title"
      ]
     },
     "metadata": {},
     "output_type": "display_data"
    }
   ],
   "source": [
    "set.seed(123) # using same seed to be able to compare the results two models.\n",
    "\n",
    "ctrl <- trainControl(method = \"cv\", number = 100) #cross validation with 10 kfolds\n",
    "\n",
    "#decision tree using the cv kfolds\n",
    "dtree_fit_gini <- train(Class~., data = df_model, method = \"rpart\", parms = list(split = \"gini\"), trControl = ctrl, tuneLength = 100)\n",
    "              \n",
    "print(dtree_fit_gini) #summary of k-fold CV, how the model performed on testing data\n",
    "\n",
    "dtree_fit_gini$finalModel #final model\n",
    "rpart.plot(dtree_fit_gini$finalModel, tweak = 1.1, type = 5) #display the decision tree\n",
    "\n",
    "\n",
    "dtree_fit_gini$resample #prediction of each fold\n"
   ]
  },
  {
   "cell_type": "markdown",
   "id": "6dab0c91",
   "metadata": {},
   "source": [
    "#### The decision tree here uses 100 kfolds rather than 10 this means that the data was splitted much more and more combinations of testing and training data were used. The model did improve and the best accuracy was at cp = 0.024675325, accuracy = 99.42% vs the 99.39% old accuracy. The improvement can also be seen in the visualization of the model where the rule of TT4 < 54 -> primary_hyperthyroid was completely removed since it had 0% chance.\n",
    "---\n",
    "---"
   ]
  },
  {
   "cell_type": "markdown",
   "id": "61371c18",
   "metadata": {},
   "source": [
    "> #### Split data into testing and training 75%, 25% and prune tree."
   ]
  },
  {
   "cell_type": "code",
   "execution_count": 163,
   "id": "26e9d37f",
   "metadata": {
    "scrolled": false
   },
   "outputs": [
    {
     "data": {
      "text/html": [
       "<ol class=list-inline>\n",
       "\t<li>2717</li>\n",
       "\t<li>7</li>\n",
       "</ol>\n"
      ],
      "text/latex": [
       "\\begin{enumerate*}\n",
       "\\item 2717\n",
       "\\item 7\n",
       "\\end{enumerate*}\n"
      ],
      "text/markdown": [
       "1. 2717\n",
       "2. 7\n",
       "\n",
       "\n"
      ],
      "text/plain": [
       "[1] 2717    7"
      ]
     },
     "metadata": {},
     "output_type": "display_data"
    },
    {
     "data": {
      "text/html": [
       "<ol class=list-inline>\n",
       "\t<li>903</li>\n",
       "\t<li>7</li>\n",
       "</ol>\n"
      ],
      "text/latex": [
       "\\begin{enumerate*}\n",
       "\\item 903\n",
       "\\item 7\n",
       "\\end{enumerate*}\n"
      ],
      "text/markdown": [
       "1. 903\n",
       "2. 7\n",
       "\n",
       "\n"
      ],
      "text/plain": [
       "[1] 903   7"
      ]
     },
     "metadata": {},
     "output_type": "display_data"
    },
    {
     "data": {
      "text/plain": [
       "n= 2717 \n",
       "\n",
       "node), split, n, loss, yval, (yprob)\n",
       "      * denotes terminal node\n",
       "\n",
       " 1) root 2717 212 negative (0.0518954729 0.9219727641 0.0253956570 0.0007361060)  \n",
       "   2) TSH>=6.05 263 122 compensated_hypothyroid (0.5361216730 0.2015209125 0.2623574144 0.0000000000)  \n",
       "     4) FTI>=64.5 195  54 compensated_hypothyroid (0.7230769231 0.2564102564 0.0205128205 0.0000000000)  \n",
       "       8) on_thyroxine=f 156  15 compensated_hypothyroid (0.9038461538 0.0705128205 0.0256410256 0.0000000000)  \n",
       "        16) TT4< 145 149  10 compensated_hypothyroid (0.9328859060 0.0402684564 0.0268456376 0.0000000000) *\n",
       "        17) TT4>=145 7   2 negative (0.2857142857 0.7142857143 0.0000000000 0.0000000000) *\n",
       "       9) on_thyroxine=t 39   0 negative (0.0000000000 1.0000000000 0.0000000000 0.0000000000) *\n",
       "     5) FTI< 64.5 68   3 primary_hypothyroid (0.0000000000 0.0441176471 0.9558823529 0.0000000000) *\n",
       "   3) TSH< 6.05 2454   2 negative (0.0000000000 0.9991850041 0.0000000000 0.0008149959) *"
      ]
     },
     "metadata": {},
     "output_type": "display_data"
    },
    {
     "data": {
      "image/png": "[encoded data removed]",
      "text/plain": [
       "Plot with title “”"
      ]
     },
     "metadata": {},
     "output_type": "display_data"
    }
   ],
   "source": [
    "library(rattle)\n",
    "library(RColorBrewer)\n",
    "\n",
    "set.seed(80) \n",
    "intr <- createDataPartition(y = df_model$Class, p= 0.75, list = FALSE) #split 0.75 testing and 0.25 training\n",
    "tr <- df_model[intr,]\n",
    "tes <- df_model[-intr,]\n",
    "\n",
    "dim(tr)\n",
    "dim(tes)\n",
    "\n",
    "#decision tree model\n",
    "mtree <- rpart(Class~., data = tr, method=\"class\", control = rpart.control(minsplit = 20, minbucket = 7, maxdepth = 10, usesurrogate = 2, xval =10 ))\n",
    "\n",
    "mtree #tree\n",
    "\n",
    "fancyRpartPlot(mtree) #tree plot\n"
   ]
  },
  {
   "cell_type": "markdown",
   "id": "2a12f383",
   "metadata": {},
   "source": [
    "#### The following is the decision tree when the data was splitted into training and testing with a percentage of 75% training and 25% testing."
   ]
  },
  {
   "cell_type": "code",
   "execution_count": 167,
   "id": "2a1ef109",
   "metadata": {
    "scrolled": true
   },
   "outputs": [
    {
     "data": {
      "text/plain": [
       "                         \n",
       "tree_pr                   compensated_hypothyroid negative primary_hypothyroid\n",
       "  compensated_hypothyroid                      46        2                   2\n",
       "  negative                                      0      831                   0\n",
       "  primary_hypothyroid                           0        2                  20\n",
       "  secondary_hypothyroid                         0        0                   0\n",
       "                         \n",
       "tree_pr                   secondary_hypothyroid\n",
       "  compensated_hypothyroid                     0\n",
       "  negative                                    0\n",
       "  primary_hypothyroid                         0\n",
       "  secondary_hypothyroid                       0"
      ]
     },
     "metadata": {},
     "output_type": "display_data"
    }
   ],
   "source": [
    "tree_pr = predict(mtree, tes, type = \"class\")\n",
    "table(tree_pr, tes$Class)"
   ]
  },
  {
   "cell_type": "markdown",
   "id": "f57bf8ea",
   "metadata": {},
   "source": [
    "#### The following is the confusion matrix of the tree. Out of 903 records in the testing dataset 897 were correctly classified with an accuracy of 99.33% (897/903)"
   ]
  },
  {
   "cell_type": "code",
   "execution_count": 146,
   "id": "92aa08fd",
   "metadata": {
    "scrolled": true
   },
   "outputs": [
    {
     "name": "stdout",
     "output_type": "stream",
     "text": [
      "\n",
      "Classification tree:\n",
      "rpart(formula = Class ~ ., data = tr, method = \"class\", control = rpart.control(minsplit = 20, \n",
      "    minbucket = 7, maxdepth = 10, usesurrogate = 2, xval = 10))\n",
      "\n",
      "Variables actually used in tree construction:\n",
      "[1] FTI          TSH          TT4          on_thyroxine\n",
      "\n",
      "Root node error: 212/2717 = 0.078027\n",
      "\n",
      "n= 2717 \n",
      "\n",
      "        CP nsplit rel error  xerror     xstd\n",
      "1 0.415094      0  1.000000 1.00000 0.065946\n",
      "2 0.306604      1  0.584906 0.58491 0.051313\n",
      "3 0.183962      2  0.278302 0.27830 0.035836\n",
      "4 0.014151      3  0.094340 0.09434 0.021017\n",
      "5 0.010000      4  0.080189 0.09434 0.021017\n"
     ]
    }
   ],
   "source": [
    "printcp(mtree) \n",
    "bestcp <- mtree$cptable[which.min(mtree$cptable[,\"xerror\"]),\"CP\"] #getting the best cp"
   ]
  },
  {
   "cell_type": "markdown",
   "id": "6f0a238b",
   "metadata": {},
   "source": [
    "#### We got the best cp to prune the tree."
   ]
  },
  {
   "cell_type": "code",
   "execution_count": 148,
   "id": "93e32d53",
   "metadata": {
    "scrolled": false
   },
   "outputs": [
    {
     "data": {
      "image/png": "[encoded data removed]",
      "text/plain": [
       "Plot with title “”"
      ]
     },
     "metadata": {},
     "output_type": "display_data"
    }
   ],
   "source": [
    "pruned <- prune(mtree, cp = bestcp)\n",
    "fancyRpartPlot(pruned)"
   ]
  },
  {
   "cell_type": "markdown",
   "id": "6d84c602",
   "metadata": {},
   "source": [
    "#### This is the new tree after pruning. As seen the level of the tree decreased by removing the last level. "
   ]
  },
  {
   "cell_type": "code",
   "execution_count": 162,
   "id": "cf52115e",
   "metadata": {},
   "outputs": [
    {
     "data": {
      "text/plain": [
       "                         \n",
       "tree_pred                 compensated_hypothyroid negative primary_hypothyroid\n",
       "  compensated_hypothyroid                      46        5                   2\n",
       "  negative                                      0      828                   0\n",
       "  primary_hypothyroid                           0        2                  20\n",
       "  secondary_hypothyroid                         0        0                   0\n",
       "                         \n",
       "tree_pred                 secondary_hypothyroid\n",
       "  compensated_hypothyroid                     0\n",
       "  negative                                    0\n",
       "  primary_hypothyroid                         0\n",
       "  secondary_hypothyroid                       0"
      ]
     },
     "metadata": {},
     "output_type": "display_data"
    }
   ],
   "source": [
    "tree_pred = predict(pruned, tes, type = \"class\")\n",
    "table(tree_pred, tes$Class)"
   ]
  },
  {
   "cell_type": "markdown",
   "id": "d3106b8c",
   "metadata": {},
   "source": [
    "#### The following is the confusion matrix after the pruned model was used to predict the class of the testing data. The accuracy of the tree after pruning is 99% (894/903). The accuracy decreased which means that the level that was pruned or removed affected the labels."
   ]
  },
  {
   "cell_type": "markdown",
   "id": "7025abbd",
   "metadata": {},
   "source": [
    "## Part B Support Vector Machines: \n",
    ">Understanding the data"
   ]
  },
  {
   "cell_type": "code",
   "execution_count": 19,
   "id": "d8354f79",
   "metadata": {
    "scrolled": true
   },
   "outputs": [
    {
     "data": {
      "text/html": [
       "<table>\n",
       "<thead><tr><th scope=col>Pregnancies</th><th scope=col>Glucose</th><th scope=col>BloodPressure</th><th scope=col>SkinThickness</th><th scope=col>Insulin</th><th scope=col>BMI</th><th scope=col>DiabetesPedigreeFunction</th><th scope=col>Age</th><th scope=col>Outcome</th></tr></thead>\n",
       "<tbody>\n",
       "\t<tr><td>6    </td><td>148  </td><td>72   </td><td>35   </td><td>?    </td><td>33.6 </td><td>0.627</td><td>50   </td><td>1    </td></tr>\n",
       "\t<tr><td>1    </td><td>85   </td><td>66   </td><td>29   </td><td>?    </td><td>26.6 </td><td>0.351</td><td>31   </td><td>0    </td></tr>\n",
       "\t<tr><td>8    </td><td>183  </td><td>64   </td><td>?    </td><td>?    </td><td>23.3 </td><td>0.672</td><td>32   </td><td>1    </td></tr>\n",
       "\t<tr><td>1    </td><td>89   </td><td>66   </td><td>23   </td><td>94   </td><td>28.1 </td><td>0.167</td><td>21   </td><td>0    </td></tr>\n",
       "\t<tr><td>0    </td><td>137  </td><td>40   </td><td>35   </td><td>168  </td><td>43.1 </td><td>2.288</td><td>33   </td><td>1    </td></tr>\n",
       "\t<tr><td>5    </td><td>116  </td><td>74   </td><td>?    </td><td>?    </td><td>25.6 </td><td>0.201</td><td>30   </td><td>0    </td></tr>\n",
       "\t<tr><td>3    </td><td>78   </td><td>50   </td><td>32   </td><td>88   </td><td>31   </td><td>0.248</td><td>26   </td><td>1    </td></tr>\n",
       "</tbody>\n",
       "</table>\n"
      ],
      "text/latex": [
       "\\begin{tabular}{r|lllllllll}\n",
       " Pregnancies & Glucose & BloodPressure & SkinThickness & Insulin & BMI & DiabetesPedigreeFunction & Age & Outcome\\\\\n",
       "\\hline\n",
       "\t 6     & 148   & 72    & 35    & ?     & 33.6  & 0.627 & 50    & 1    \\\\\n",
       "\t 1     & 85    & 66    & 29    & ?     & 26.6  & 0.351 & 31    & 0    \\\\\n",
       "\t 8     & 183   & 64    & ?     & ?     & 23.3  & 0.672 & 32    & 1    \\\\\n",
       "\t 1     & 89    & 66    & 23    & 94    & 28.1  & 0.167 & 21    & 0    \\\\\n",
       "\t 0     & 137   & 40    & 35    & 168   & 43.1  & 2.288 & 33    & 1    \\\\\n",
       "\t 5     & 116   & 74    & ?     & ?     & 25.6  & 0.201 & 30    & 0    \\\\\n",
       "\t 3     & 78    & 50    & 32    & 88    & 31    & 0.248 & 26    & 1    \\\\\n",
       "\\end{tabular}\n"
      ],
      "text/markdown": [
       "\n",
       "| Pregnancies | Glucose | BloodPressure | SkinThickness | Insulin | BMI | DiabetesPedigreeFunction | Age | Outcome |\n",
       "|---|---|---|---|---|---|---|---|---|\n",
       "| 6     | 148   | 72    | 35    | ?     | 33.6  | 0.627 | 50    | 1     |\n",
       "| 1     | 85    | 66    | 29    | ?     | 26.6  | 0.351 | 31    | 0     |\n",
       "| 8     | 183   | 64    | ?     | ?     | 23.3  | 0.672 | 32    | 1     |\n",
       "| 1     | 89    | 66    | 23    | 94    | 28.1  | 0.167 | 21    | 0     |\n",
       "| 0     | 137   | 40    | 35    | 168   | 43.1  | 2.288 | 33    | 1     |\n",
       "| 5     | 116   | 74    | ?     | ?     | 25.6  | 0.201 | 30    | 0     |\n",
       "| 3     | 78    | 50    | 32    | 88    | 31    | 0.248 | 26    | 1     |\n",
       "\n"
      ],
      "text/plain": [
       "  Pregnancies Glucose BloodPressure SkinThickness Insulin BMI \n",
       "1 6           148     72            35            ?       33.6\n",
       "2 1           85      66            29            ?       26.6\n",
       "3 8           183     64            ?             ?       23.3\n",
       "4 1           89      66            23            94      28.1\n",
       "5 0           137     40            35            168     43.1\n",
       "6 5           116     74            ?             ?       25.6\n",
       "7 3           78      50            32            88      31  \n",
       "  DiabetesPedigreeFunction Age Outcome\n",
       "1 0.627                    50  1      \n",
       "2 0.351                    31  0      \n",
       "3 0.672                    32  1      \n",
       "4 0.167                    21  0      \n",
       "5 2.288                    33  1      \n",
       "6 0.201                    30  0      \n",
       "7 0.248                    26  1      "
      ]
     },
     "metadata": {},
     "output_type": "display_data"
    },
    {
     "data": {
      "text/html": [
       "768"
      ],
      "text/latex": [
       "768"
      ],
      "text/markdown": [
       "768"
      ],
      "text/plain": [
       "[1] 768"
      ]
     },
     "metadata": {},
     "output_type": "display_data"
    },
    {
     "data": {
      "text/html": [
       "9"
      ],
      "text/latex": [
       "9"
      ],
      "text/markdown": [
       "9"
      ],
      "text/plain": [
       "[1] 9"
      ]
     },
     "metadata": {},
     "output_type": "display_data"
    }
   ],
   "source": [
    "df_dia <- read.csv('diabetes.csv') # putting dataset into a frame \n",
    "head(df_dia, 7) #looking at the first few rows of the dataset\n",
    "nrow(df_dia) #size of dataset\n",
    "ncol(df_dia)"
   ]
  },
  {
   "cell_type": "code",
   "execution_count": 20,
   "id": "33fdeafd",
   "metadata": {
    "scrolled": false
   },
   "outputs": [
    {
     "name": "stderr",
     "output_type": "stream",
     "text": [
      "Warning message in (function (x) :\n",
      "“NAs introduced by coercion”Warning message in (function (x) :\n",
      "“NAs introduced by coercion”Warning message in (function (x) :\n",
      "“NAs introduced by coercion”Warning message in (function (x) :\n",
      "“NAs introduced by coercion”Warning message in (function (x) :\n",
      "“NAs introduced by coercion”"
     ]
    },
    {
     "data": {
      "text/plain": [
       "df_dia \n",
       "\n",
       " 9  Variables      768  Observations\n",
       "--------------------------------------------------------------------------------\n",
       "Pregnancies \n",
       "       n  missing distinct     Info     Mean      Gmd      .05      .10 \n",
       "     768        0       17    0.986    3.845    3.698        0        0 \n",
       "     .25      .50      .75      .90      .95 \n",
       "       1        3        6        9       10 \n",
       "                                                                            \n",
       "Value          0     1     2     3     4     5     6     7     8     9    10\n",
       "Frequency    111   135   103    75    68    57    50    45    38    28    24\n",
       "Proportion 0.145 0.176 0.134 0.098 0.089 0.074 0.065 0.059 0.049 0.036 0.031\n",
       "                                              \n",
       "Value         11    12    13    14    15    17\n",
       "Frequency     11     9    10     2     1     1\n",
       "Proportion 0.014 0.012 0.013 0.003 0.001 0.001\n",
       "--------------------------------------------------------------------------------\n",
       "Glucose \n",
       "       n  missing distinct     Info     Mean      Gmd      .05      .10 \n",
       "     763        5      135        1    121.7    34.35     80.0     86.2 \n",
       "     .25      .50      .75      .90      .95 \n",
       "    99.0    117.0    141.0    167.0    181.0 \n",
       "\n",
       "lowest :  44  56  57  61  62, highest: 195 196 197 198 199\n",
       "--------------------------------------------------------------------------------\n",
       "BloodPressure \n",
       "       n  missing distinct     Info     Mean      Gmd      .05      .10 \n",
       "     734       34       47    0.997    72.31    13.89       52       58 \n",
       "     .25      .50      .75      .90      .95 \n",
       "      64       72       80       88       92 \n",
       "\n",
       "lowest :   0  24  30  38  40, highest: 106 108 110 114 122\n",
       "--------------------------------------------------------------------------------\n",
       "SkinThickness \n",
       "       n  missing distinct     Info     Mean      Gmd      .05      .10 \n",
       "     541      227       50    0.999    29.15    11.65       13       16 \n",
       "     .25      .50      .75      .90      .95 \n",
       "      22       29       36       42       46 \n",
       "\n",
       "lowest :  7  8 10 11 12, highest: 54 56 60 63 99\n",
       "--------------------------------------------------------------------------------\n",
       "Insulin \n",
       "       n  missing distinct     Info     Mean      Gmd      .05      .10 \n",
       "     397      371      186        1    154.4    116.8     39.6     49.6 \n",
       "     .25      .50      .75      .90      .95 \n",
       "    76.0    125.0    190.0    291.8    394.0 \n",
       "\n",
       "lowest :   0  14  15  16  18, highest: 579 600 680 744 846\n",
       "--------------------------------------------------------------------------------\n",
       "BMI \n",
       "       n  missing distinct     Info     Mean      Gmd      .05      .10 \n",
       "     757       11      247        1    32.46    7.731    22.20    24.00 \n",
       "     .25      .50      .75      .90      .95 \n",
       "   27.50    32.30    36.60    41.62    44.50 \n",
       "\n",
       "lowest : 18.2 18.4 19.1 19.3 19.4, highest: 53.2 55.0 57.3 59.4 67.1\n",
       "--------------------------------------------------------------------------------\n",
       "DiabetesPedigreeFunction \n",
       "       n  missing distinct     Info     Mean      Gmd      .05      .10 \n",
       "     768        0      517        1   0.4719   0.3358   0.1404   0.1650 \n",
       "     .25      .50      .75      .90      .95 \n",
       "  0.2437   0.3725   0.6262   0.8786   1.1328 \n",
       "\n",
       "lowest : 0.078 0.084 0.085 0.088 0.089, highest: 1.893 2.137 2.288 2.329 2.420\n",
       "--------------------------------------------------------------------------------\n",
       "Age \n",
       "       n  missing distinct     Info     Mean      Gmd      .05      .10 \n",
       "     768        0       52    0.998    33.24    12.62       21       22 \n",
       "     .25      .50      .75      .90      .95 \n",
       "      24       29       41       51       58 \n",
       "\n",
       "lowest : 21 22 23 24 25, highest: 68 69 70 72 81\n",
       "--------------------------------------------------------------------------------\n",
       "Outcome \n",
       "       n  missing distinct     Info      Sum     Mean      Gmd \n",
       "     768        0        2    0.682      268    0.349    0.455 \n",
       "\n",
       "--------------------------------------------------------------------------------"
      ]
     },
     "metadata": {},
     "output_type": "display_data"
    }
   ],
   "source": [
    "library(dplyr)\n",
    "df_dia <- mutate_all(df_dia, function(x) as.numeric(as.character(x))) #convert df_dia to numeric\n",
    "                  \n",
    "df_dia[df_dia == '?'] <- NA #convert '?' to NA\n",
    "df_desc <- describe(df_dia) #understand the data and check missing values in each column\n",
    "df_desc"
   ]
  },
  {
   "cell_type": "code",
   "execution_count": 22,
   "id": "8dfb2a0e",
   "metadata": {
    "scrolled": false
   },
   "outputs": [
    {
     "data": {
      "text/html": [
       "<table>\n",
       "<thead><tr><th scope=col>key</th><th scope=col>value</th></tr></thead>\n",
       "<tbody>\n",
       "\t<tr><td>Pregnancies</td><td>6          </td></tr>\n",
       "\t<tr><td>Pregnancies</td><td>1          </td></tr>\n",
       "\t<tr><td>Pregnancies</td><td>8          </td></tr>\n",
       "\t<tr><td>Pregnancies</td><td>1          </td></tr>\n",
       "\t<tr><td>Pregnancies</td><td>0          </td></tr>\n",
       "\t<tr><td>Pregnancies</td><td>5          </td></tr>\n",
       "</tbody>\n",
       "</table>\n"
      ],
      "text/latex": [
       "\\begin{tabular}{r|ll}\n",
       " key & value\\\\\n",
       "\\hline\n",
       "\t Pregnancies & 6          \\\\\n",
       "\t Pregnancies & 1          \\\\\n",
       "\t Pregnancies & 8          \\\\\n",
       "\t Pregnancies & 1          \\\\\n",
       "\t Pregnancies & 0          \\\\\n",
       "\t Pregnancies & 5          \\\\\n",
       "\\end{tabular}\n"
      ],
      "text/markdown": [
       "\n",
       "| key | value |\n",
       "|---|---|\n",
       "| Pregnancies | 6           |\n",
       "| Pregnancies | 1           |\n",
       "| Pregnancies | 8           |\n",
       "| Pregnancies | 1           |\n",
       "| Pregnancies | 0           |\n",
       "| Pregnancies | 5           |\n",
       "\n"
      ],
      "text/plain": [
       "  key         value\n",
       "1 Pregnancies 6    \n",
       "2 Pregnancies 1    \n",
       "3 Pregnancies 8    \n",
       "4 Pregnancies 1    \n",
       "5 Pregnancies 0    \n",
       "6 Pregnancies 5    "
      ]
     },
     "metadata": {},
     "output_type": "display_data"
    },
    {
     "name": "stderr",
     "output_type": "stream",
     "text": [
      "Warning message:\n",
      "“Removed 648 rows containing non-finite values (stat_bin).”"
     ]
    },
    {
     "data": {
      "image/png": "[encoded data removed]",
      "text/plain": [
       "plot without title"
      ]
     },
     "metadata": {},
     "output_type": "display_data"
    }
   ],
   "source": [
    "library(tidyr)\n",
    "library(ggplot2)\n",
    "\n",
    "df_dia %>% gather() %>% head()\n",
    "\n",
    "ggplot(gather(df_dia), aes(value)) + #plot all columns to visualize them\n",
    "    geom_histogram(bins = 10) + \n",
    "    facet_wrap(~key, scales = 'free_x')"
   ]
  },
  {
   "cell_type": "markdown",
   "id": "b2df4fcd",
   "metadata": {},
   "source": [
    "### a. Some data points are not available, handle the missing data by applying central measure of tendency to derive the missing value."
   ]
  },
  {
   "cell_type": "code",
   "execution_count": 23,
   "id": "89ab06a8",
   "metadata": {},
   "outputs": [
    {
     "data": {
      "text/html": [
       "<table>\n",
       "<thead><tr><th scope=col>Pregnancies</th><th scope=col>Glucose</th><th scope=col>BloodPressure</th><th scope=col>SkinThickness</th><th scope=col>Insulin</th><th scope=col>BMI</th><th scope=col>DiabetesPedigreeFunction</th><th scope=col>Age</th><th scope=col>Outcome</th></tr></thead>\n",
       "<tbody>\n",
       "\t<tr><td>6    </td><td>148  </td><td>72   </td><td>35   </td><td>154  </td><td>33.6 </td><td>0.627</td><td>50   </td><td>1    </td></tr>\n",
       "\t<tr><td>1    </td><td> 85  </td><td>66   </td><td>29   </td><td>154  </td><td>26.6 </td><td>0.351</td><td>31   </td><td>0    </td></tr>\n",
       "\t<tr><td>8    </td><td>183  </td><td>64   </td><td>29   </td><td>154  </td><td>23.3 </td><td>0.672</td><td>32   </td><td>1    </td></tr>\n",
       "\t<tr><td>1    </td><td> 89  </td><td>66   </td><td>23   </td><td> 94  </td><td>28.1 </td><td>0.167</td><td>21   </td><td>0    </td></tr>\n",
       "\t<tr><td>0    </td><td>137  </td><td>40   </td><td>35   </td><td>168  </td><td>43.1 </td><td>2.288</td><td>33   </td><td>1    </td></tr>\n",
       "\t<tr><td>5    </td><td>116  </td><td>74   </td><td>29   </td><td>154  </td><td>25.6 </td><td>0.201</td><td>30   </td><td>0    </td></tr>\n",
       "</tbody>\n",
       "</table>\n"
      ],
      "text/latex": [
       "\\begin{tabular}{r|lllllllll}\n",
       " Pregnancies & Glucose & BloodPressure & SkinThickness & Insulin & BMI & DiabetesPedigreeFunction & Age & Outcome\\\\\n",
       "\\hline\n",
       "\t 6     & 148   & 72    & 35    & 154   & 33.6  & 0.627 & 50    & 1    \\\\\n",
       "\t 1     &  85   & 66    & 29    & 154   & 26.6  & 0.351 & 31    & 0    \\\\\n",
       "\t 8     & 183   & 64    & 29    & 154   & 23.3  & 0.672 & 32    & 1    \\\\\n",
       "\t 1     &  89   & 66    & 23    &  94   & 28.1  & 0.167 & 21    & 0    \\\\\n",
       "\t 0     & 137   & 40    & 35    & 168   & 43.1  & 2.288 & 33    & 1    \\\\\n",
       "\t 5     & 116   & 74    & 29    & 154   & 25.6  & 0.201 & 30    & 0    \\\\\n",
       "\\end{tabular}\n"
      ],
      "text/markdown": [
       "\n",
       "| Pregnancies | Glucose | BloodPressure | SkinThickness | Insulin | BMI | DiabetesPedigreeFunction | Age | Outcome |\n",
       "|---|---|---|---|---|---|---|---|---|\n",
       "| 6     | 148   | 72    | 35    | 154   | 33.6  | 0.627 | 50    | 1     |\n",
       "| 1     |  85   | 66    | 29    | 154   | 26.6  | 0.351 | 31    | 0     |\n",
       "| 8     | 183   | 64    | 29    | 154   | 23.3  | 0.672 | 32    | 1     |\n",
       "| 1     |  89   | 66    | 23    |  94   | 28.1  | 0.167 | 21    | 0     |\n",
       "| 0     | 137   | 40    | 35    | 168   | 43.1  | 2.288 | 33    | 1     |\n",
       "| 5     | 116   | 74    | 29    | 154   | 25.6  | 0.201 | 30    | 0     |\n",
       "\n"
      ],
      "text/plain": [
       "  Pregnancies Glucose BloodPressure SkinThickness Insulin BMI \n",
       "1 6           148     72            35            154     33.6\n",
       "2 1            85     66            29            154     26.6\n",
       "3 8           183     64            29            154     23.3\n",
       "4 1            89     66            23             94     28.1\n",
       "5 0           137     40            35            168     43.1\n",
       "6 5           116     74            29            154     25.6\n",
       "  DiabetesPedigreeFunction Age Outcome\n",
       "1 0.627                    50  1      \n",
       "2 0.351                    31  0      \n",
       "3 0.672                    32  1      \n",
       "4 0.167                    21  0      \n",
       "5 2.288                    33  1      \n",
       "6 0.201                    30  0      "
      ]
     },
     "metadata": {},
     "output_type": "display_data"
    }
   ],
   "source": [
    "df_dia$Glucose[is.na(df_dia$Glucose)]<-round(mean(df_dia$Glucose, na.rm = TRUE), digits=0)\n",
    "\n",
    "df_dia$BloodPressure[is.na(df_dia$BloodPressure)]<-round(mean(df_dia$BloodPressure, na.rm = TRUE), digits=0)\n",
    "\n",
    "df_dia$SkinThickness[is.na(df_dia$SkinThickness)]<-round(mean(df_dia$SkinThickness, na.rm = TRUE), digits=0)\n",
    "\n",
    "df_dia$Insulin[is.na(df_dia$Insulin)]<-round(mean(df_dia$Insulin, na.rm = TRUE), digits=0)\n",
    "\n",
    "df_dia$BMI[is.na(df_dia$BMI)]<-mean(df_dia$BMI, na.rm = TRUE)\n",
    "\n",
    "head(df_dia)"
   ]
  },
  {
   "cell_type": "markdown",
   "id": "aad2ec16",
   "metadata": {},
   "source": [
    "#### Based on the histograms of the columns the central measure of tendancy used to derive the missing values was the mean. All columns means were rounded except for the BMI in order to keep the data as the original dataset were the columns contain integers."
   ]
  },
  {
   "cell_type": "markdown",
   "id": "0a32cfd5",
   "metadata": {},
   "source": [
    "### b. Partition the dataset into a train dataset (75%) and test dataset (25%). Use the train dataset to build the Neural Network and the test dataset to evaluate how well the model generalizes to future results."
   ]
  },
  {
   "cell_type": "code",
   "execution_count": 24,
   "id": "637f68d5",
   "metadata": {},
   "outputs": [],
   "source": [
    "set.seed(80) \n",
    "intrain <- createDataPartition(y = df_dia$Outcome, p= 0.75, list = FALSE)\n",
    "training <- df_dia[intrain,]\n",
    "testing <- df_dia[-intrain,]"
   ]
  },
  {
   "cell_type": "code",
   "execution_count": 25,
   "id": "8db879ab",
   "metadata": {},
   "outputs": [
    {
     "data": {
      "text/html": [
       "<ol class=list-inline>\n",
       "\t<li>576</li>\n",
       "\t<li>9</li>\n",
       "</ol>\n"
      ],
      "text/latex": [
       "\\begin{enumerate*}\n",
       "\\item 576\n",
       "\\item 9\n",
       "\\end{enumerate*}\n"
      ],
      "text/markdown": [
       "1. 576\n",
       "2. 9\n",
       "\n",
       "\n"
      ],
      "text/plain": [
       "[1] 576   9"
      ]
     },
     "metadata": {},
     "output_type": "display_data"
    },
    {
     "data": {
      "text/html": [
       "<ol class=list-inline>\n",
       "\t<li>192</li>\n",
       "\t<li>9</li>\n",
       "</ol>\n"
      ],
      "text/latex": [
       "\\begin{enumerate*}\n",
       "\\item 192\n",
       "\\item 9\n",
       "\\end{enumerate*}\n"
      ],
      "text/markdown": [
       "1. 192\n",
       "2. 9\n",
       "\n",
       "\n"
      ],
      "text/plain": [
       "[1] 192   9"
      ]
     },
     "metadata": {},
     "output_type": "display_data"
    }
   ],
   "source": [
    "dim(training); dim(testing);"
   ]
  },
  {
   "cell_type": "markdown",
   "id": "361c9df7",
   "metadata": {},
   "source": [
    "#### The data was splitted into training data that contains 75% of the original data and testing which is 25%."
   ]
  },
  {
   "cell_type": "markdown",
   "id": "8ace61fe",
   "metadata": {},
   "source": [
    "### c. Neural networks work best when the input data are scaled to a narrow range around zero. Rescale the data with a normalizing(e.g., min_max normalization)or standardization (e.g., z_score standardization) function."
   ]
  },
  {
   "cell_type": "code",
   "execution_count": 26,
   "id": "9800f317",
   "metadata": {},
   "outputs": [],
   "source": [
    "max = apply(df_dia , 2 , max) #rescaling the data using min_max normalization\n",
    "min = apply(df_dia, 2 , min)\n",
    "scaled = as.data.frame(scale(df_dia, center = min, scale = max - min))"
   ]
  },
  {
   "cell_type": "code",
   "execution_count": 27,
   "id": "49261d43",
   "metadata": {},
   "outputs": [
    {
     "data": {
      "text/html": [
       "<ol class=list-inline>\n",
       "\t<li>576</li>\n",
       "\t<li>9</li>\n",
       "</ol>\n"
      ],
      "text/latex": [
       "\\begin{enumerate*}\n",
       "\\item 576\n",
       "\\item 9\n",
       "\\end{enumerate*}\n"
      ],
      "text/markdown": [
       "1. 576\n",
       "2. 9\n",
       "\n",
       "\n"
      ],
      "text/plain": [
       "[1] 576   9"
      ]
     },
     "metadata": {},
     "output_type": "display_data"
    },
    {
     "data": {
      "text/html": [
       "<ol class=list-inline>\n",
       "\t<li>192</li>\n",
       "\t<li>9</li>\n",
       "</ol>\n"
      ],
      "text/latex": [
       "\\begin{enumerate*}\n",
       "\\item 192\n",
       "\\item 9\n",
       "\\end{enumerate*}\n"
      ],
      "text/markdown": [
       "1. 192\n",
       "2. 9\n",
       "\n",
       "\n"
      ],
      "text/plain": [
       "[1] 192   9"
      ]
     },
     "metadata": {},
     "output_type": "display_data"
    }
   ],
   "source": [
    "set.seed(80) \n",
    "intrain <- createDataPartition(y = scaled$Outcome, p= 0.75, list = FALSE)\n",
    "trainNN <- scaled[intrain,]\n",
    "testNN <- scaled[-intrain,]\n",
    "dim(trainNN); dim(testNN);"
   ]
  },
  {
   "cell_type": "code",
   "execution_count": 114,
   "id": "e66a8ee0",
   "metadata": {
    "scrolled": true
   },
   "outputs": [
    {
     "data": {
      "text/html": [
       "<table>\n",
       "<thead><tr><th scope=col>Pregnancies</th><th scope=col>Glucose</th><th scope=col>BloodPressure</th><th scope=col>SkinThickness</th><th scope=col>Insulin</th><th scope=col>BMI</th><th scope=col>DiabetesPedigreeFunction</th><th scope=col>Age</th><th scope=col>Outcome</th></tr></thead>\n",
       "<tbody>\n",
       "\t<tr><td>0.35294118</td><td>0.6709677 </td><td>0.5901639 </td><td>0.3043478 </td><td>0.1820331 </td><td>0.3149284 </td><td>0.23441503</td><td>0.4833333 </td><td>1         </td></tr>\n",
       "\t<tr><td>0.05882353</td><td>0.2645161 </td><td>0.5409836 </td><td>0.2391304 </td><td>0.1820331 </td><td>0.1717791 </td><td>0.11656704</td><td>0.1666667 </td><td>0         </td></tr>\n",
       "\t<tr><td>0.47058824</td><td>0.8967742 </td><td>0.5245902 </td><td>0.2391304 </td><td>0.1820331 </td><td>0.1042945 </td><td>0.25362938</td><td>0.1833333 </td><td>1         </td></tr>\n",
       "\t<tr><td>0.05882353</td><td>0.2903226 </td><td>0.5409836 </td><td>0.1739130 </td><td>0.1111111 </td><td>0.2024540 </td><td>0.03800171</td><td>0.0000000 </td><td>0         </td></tr>\n",
       "\t<tr><td>0.00000000</td><td>0.6000000 </td><td>0.3278689 </td><td>0.3043478 </td><td>0.1985816 </td><td>0.5092025 </td><td>0.94363792</td><td>0.2000000 </td><td>1         </td></tr>\n",
       "\t<tr><td>0.29411765</td><td>0.4645161 </td><td>0.6065574 </td><td>0.2391304 </td><td>0.1820331 </td><td>0.1513292 </td><td>0.05251921</td><td>0.1500000 </td><td>0         </td></tr>\n",
       "</tbody>\n",
       "</table>\n"
      ],
      "text/latex": [
       "\\begin{tabular}{r|lllllllll}\n",
       " Pregnancies & Glucose & BloodPressure & SkinThickness & Insulin & BMI & DiabetesPedigreeFunction & Age & Outcome\\\\\n",
       "\\hline\n",
       "\t 0.35294118 & 0.6709677  & 0.5901639  & 0.3043478  & 0.1820331  & 0.3149284  & 0.23441503 & 0.4833333  & 1         \\\\\n",
       "\t 0.05882353 & 0.2645161  & 0.5409836  & 0.2391304  & 0.1820331  & 0.1717791  & 0.11656704 & 0.1666667  & 0         \\\\\n",
       "\t 0.47058824 & 0.8967742  & 0.5245902  & 0.2391304  & 0.1820331  & 0.1042945  & 0.25362938 & 0.1833333  & 1         \\\\\n",
       "\t 0.05882353 & 0.2903226  & 0.5409836  & 0.1739130  & 0.1111111  & 0.2024540  & 0.03800171 & 0.0000000  & 0         \\\\\n",
       "\t 0.00000000 & 0.6000000  & 0.3278689  & 0.3043478  & 0.1985816  & 0.5092025  & 0.94363792 & 0.2000000  & 1         \\\\\n",
       "\t 0.29411765 & 0.4645161  & 0.6065574  & 0.2391304  & 0.1820331  & 0.1513292  & 0.05251921 & 0.1500000  & 0         \\\\\n",
       "\\end{tabular}\n"
      ],
      "text/markdown": [
       "\n",
       "| Pregnancies | Glucose | BloodPressure | SkinThickness | Insulin | BMI | DiabetesPedigreeFunction | Age | Outcome |\n",
       "|---|---|---|---|---|---|---|---|---|\n",
       "| 0.35294118 | 0.6709677  | 0.5901639  | 0.3043478  | 0.1820331  | 0.3149284  | 0.23441503 | 0.4833333  | 1          |\n",
       "| 0.05882353 | 0.2645161  | 0.5409836  | 0.2391304  | 0.1820331  | 0.1717791  | 0.11656704 | 0.1666667  | 0          |\n",
       "| 0.47058824 | 0.8967742  | 0.5245902  | 0.2391304  | 0.1820331  | 0.1042945  | 0.25362938 | 0.1833333  | 1          |\n",
       "| 0.05882353 | 0.2903226  | 0.5409836  | 0.1739130  | 0.1111111  | 0.2024540  | 0.03800171 | 0.0000000  | 0          |\n",
       "| 0.00000000 | 0.6000000  | 0.3278689  | 0.3043478  | 0.1985816  | 0.5092025  | 0.94363792 | 0.2000000  | 1          |\n",
       "| 0.29411765 | 0.4645161  | 0.6065574  | 0.2391304  | 0.1820331  | 0.1513292  | 0.05251921 | 0.1500000  | 0          |\n",
       "\n"
      ],
      "text/plain": [
       "  Pregnancies Glucose   BloodPressure SkinThickness Insulin   BMI      \n",
       "1 0.35294118  0.6709677 0.5901639     0.3043478     0.1820331 0.3149284\n",
       "2 0.05882353  0.2645161 0.5409836     0.2391304     0.1820331 0.1717791\n",
       "3 0.47058824  0.8967742 0.5245902     0.2391304     0.1820331 0.1042945\n",
       "4 0.05882353  0.2903226 0.5409836     0.1739130     0.1111111 0.2024540\n",
       "5 0.00000000  0.6000000 0.3278689     0.3043478     0.1985816 0.5092025\n",
       "6 0.29411765  0.4645161 0.6065574     0.2391304     0.1820331 0.1513292\n",
       "  DiabetesPedigreeFunction Age       Outcome\n",
       "1 0.23441503               0.4833333 1      \n",
       "2 0.11656704               0.1666667 0      \n",
       "3 0.25362938               0.1833333 1      \n",
       "4 0.03800171               0.0000000 0      \n",
       "5 0.94363792               0.2000000 1      \n",
       "6 0.05251921               0.1500000 0      "
      ]
     },
     "metadata": {},
     "output_type": "display_data"
    }
   ],
   "source": [
    "head(scaled)"
   ]
  },
  {
   "cell_type": "markdown",
   "id": "d32125de",
   "metadata": {},
   "source": [
    "#### In the new dataframe, the values of all columns were scaled between 0,1 using the min max normalization as seen in the above table. Also a new split between testing and training was made again this time on the scaled data"
   ]
  },
  {
   "cell_type": "markdown",
   "id": "c30f6c0f",
   "metadata": {},
   "source": [
    "### d. Train& plot a simple Neural Network with only 2 hidden nodes(not layer). Then, train & plot a multilayer perceptron with 2 layers & 5 nodes. What impact does the change in the number of layers & nodes have on the accuracy of your model?"
   ]
  },
  {
   "cell_type": "markdown",
   "id": "b4a87f38",
   "metadata": {},
   "source": [
    "> #### Neural network with 2 hidden nodes"
   ]
  },
  {
   "cell_type": "code",
   "execution_count": 56,
   "id": "2ecdaae6",
   "metadata": {},
   "outputs": [],
   "source": [
    "library(neuralnet)\n",
    "\n",
    "NN = neuralnet(Outcome ~ Pregnancies + Glucose+ BloodPressure + SkinThickness + \n",
    "               Insulin + BMI + DiabetesPedigreeFunction + Age , trainNN, hidden = 2 , linear.output = T )\n",
    "\n",
    "# plot neural network\n",
    "plot(NN)\n",
    "#NN$result.matrix\n"
   ]
  },
  {
   "cell_type": "markdown",
   "id": "683a8374",
   "metadata": {},
   "source": [
    "<img src=\"Rplot 4.png\">"
   ]
  },
  {
   "cell_type": "markdown",
   "id": "6e8ae135",
   "metadata": {},
   "source": [
    "#### The following is the output of training a simple Neural Network with only 2 hidden nodes."
   ]
  },
  {
   "cell_type": "code",
   "execution_count": 57,
   "id": "50c21b48",
   "metadata": {},
   "outputs": [
    {
     "data": {
      "text/plain": [
       "   \n",
       "      0   1\n",
       "  0 107  24\n",
       "  1  22  39"
      ]
     },
     "metadata": {},
     "output_type": "display_data"
    }
   ],
   "source": [
    "predict_testNN = compute(NN, testNN[,c(1:8)]) #predict on testing data\n",
    "\n",
    "results_NN <- data.frame(actual = testNN$Outcome, prediction = predict_testNN$net.result) #get the results actual vs predicted\n",
    "#results\n",
    "\n",
    "roundedresults_NN<-sapply(results_NN,round,digits=0) #generate confusion matrix.\n",
    "roundedresultsdf_NN=data.frame(roundedresults_NN)\n",
    "\n",
    "table(roundedresultsdf_NN$actual,roundedresultsdf_NN$prediction)"
   ]
  },
  {
   "cell_type": "markdown",
   "id": "8d616b0a",
   "metadata": {},
   "source": [
    "#### The confusion matrix shows that the model was able to determine whether the patient has diabetes or not with an accuracy of 76% (146/192) as seen from the confusion matrix"
   ]
  },
  {
   "cell_type": "markdown",
   "id": "6e8bb12f",
   "metadata": {},
   "source": [
    "> #### Multilayer perceptron with 2 layers & 5 nodes"
   ]
  },
  {
   "cell_type": "code",
   "execution_count": 128,
   "id": "30def74b",
   "metadata": {},
   "outputs": [],
   "source": [
    "nn = neuralnet(Outcome ~ Pregnancies + Glucose+ BloodPressure + SkinThickness + \n",
    "               Insulin + BMI + DiabetesPedigreeFunction + Age , trainNN, hidden=c(5,5) ,\n",
    "               linear.output = T, stepmax = 10e+09 )\n",
    "\n",
    "# plot neural network\n",
    "plot(nn)"
   ]
  },
  {
   "cell_type": "markdown",
   "id": "8db6d95f",
   "metadata": {},
   "source": [
    "<img src=\"nn plot 3.png\">"
   ]
  },
  {
   "cell_type": "markdown",
   "id": "d38a55b6",
   "metadata": {},
   "source": [
    "#### The following is the multilayer perceptron with 2 hidden layers & 5 nodes in each layer"
   ]
  },
  {
   "cell_type": "code",
   "execution_count": 129,
   "id": "495eec29",
   "metadata": {},
   "outputs": [
    {
     "data": {
      "text/plain": [
       "   \n",
       "     0  1\n",
       "  0 97 34\n",
       "  1 20 41"
      ]
     },
     "metadata": {},
     "output_type": "display_data"
    }
   ],
   "source": [
    "predict_testnn = compute(nn, testNN[,c(1:8)]) #predict on testing data\n",
    "\n",
    "results_nn <- data.frame(actual = testNN$Outcome, prediction = predict_testnn$net.result) #get the results actual vs predicted\n",
    "#results\n",
    "\n",
    "roundedresults_nn<-sapply(results_nn,round,digits=0) #generate confusion matrix.\n",
    "roundedresultsdf_nn=data.frame(roundedresults_nn)\n",
    "\n",
    "table(roundedresultsdf_nn$actual,roundedresultsdf_nn$prediction)"
   ]
  },
  {
   "cell_type": "markdown",
   "id": "ce999772",
   "metadata": {},
   "source": [
    "#### The accuracy decrease to 71.87% (138/192). This indicates that adding the number of hidden layers and nodes does not necessarily improve the performance of the model. Maybe now the model became too complex and the data doesn not require this level of complexity. Therefore the performance decreased. This is an example of overfitting."
   ]
  },
  {
   "cell_type": "markdown",
   "id": "c4647c40",
   "metadata": {},
   "source": [
    "---\n",
    "### e. Try changing the activation function, varying the learning rate, epochs or removing the bias. What effects does any of thesehave on the result?"
   ]
  },
  {
   "cell_type": "markdown",
   "id": "d4c5f4de",
   "metadata": {},
   "source": [
    "> #### Changing Learning Rate:"
   ]
  },
  {
   "cell_type": "code",
   "execution_count": 84,
   "id": "9aa82dbe",
   "metadata": {},
   "outputs": [],
   "source": [
    "n = neuralnet(Outcome ~ Pregnancies + Glucose+ BloodPressure + SkinThickness + \n",
    "               Insulin + BMI + DiabetesPedigreeFunction + Age , trainNN, hidden=c(3,2) , linear.output = T,\n",
    "               learningrate = 0.1, stepmax = 10e+05 )\n"
   ]
  },
  {
   "cell_type": "code",
   "execution_count": 85,
   "id": "d170a60d",
   "metadata": {},
   "outputs": [
    {
     "data": {
      "text/plain": [
       "   \n",
       "      0   1\n",
       "  0 105  26\n",
       "  1  14  47"
      ]
     },
     "metadata": {},
     "output_type": "display_data"
    }
   ],
   "source": [
    "predict_testn = compute(n, testNN[,c(1:8)]) #predict on testing data\n",
    "\n",
    "results_n <- data.frame(actual = testNN$Outcome, prediction = predict_testn$net.result) #get the results actual vs predicted\n",
    "#results\n",
    "\n",
    "roundedresults_n<-sapply(results_n,round,digits=0) #generate confusion matrix.\n",
    "roundedresultsdf_n=data.frame(roundedresults_n)\n",
    "\n",
    "table(roundedresultsdf_n$actual,roundedresultsdf_n$prediction)"
   ]
  },
  {
   "cell_type": "markdown",
   "id": "a72cca7f",
   "metadata": {},
   "source": [
    "#### Changing the learning rate increased the accuracy to 79.16% (152/192)"
   ]
  },
  {
   "cell_type": "markdown",
   "id": "087bcc11",
   "metadata": {},
   "source": [
    "> #### Changing the activation function:"
   ]
  },
  {
   "cell_type": "code",
   "execution_count": 90,
   "id": "b0d01121",
   "metadata": {},
   "outputs": [],
   "source": [
    "softplus <- function(x) log(1 + exp(x)) \n",
    "\n",
    "nf = neuralnet(Outcome ~ Pregnancies + Glucose+ BloodPressure + SkinThickness + \n",
    "               Insulin + BMI + DiabetesPedigreeFunction + Age , trainNN, hidden=c(3,2) , linear.output = T,\n",
    "               act.fct = softplus )"
   ]
  },
  {
   "cell_type": "code",
   "execution_count": 91,
   "id": "da56141f",
   "metadata": {},
   "outputs": [
    {
     "data": {
      "text/plain": [
       "   \n",
       "      0   1\n",
       "  0 116  15\n",
       "  1  24  37"
      ]
     },
     "metadata": {},
     "output_type": "display_data"
    }
   ],
   "source": [
    "predict_testnf = compute(nf, testNN[,c(1:8)]) #predict on testing data\n",
    "\n",
    "results_nf <- data.frame(actual = testNN$Outcome, prediction = predict_testnf$net.result) #get the results actual vs predicted\n",
    "#results\n",
    "\n",
    "roundedresults_nf<-sapply(results_nf,round,digits=0) #generate confusion matrix.\n",
    "roundedresultsdf_nf=data.frame(roundedresults_nf)\n",
    "\n",
    "table(roundedresultsdf_nf$actual,roundedresultsdf_nf$prediction)"
   ]
  },
  {
   "cell_type": "markdown",
   "id": "469a51b4",
   "metadata": {},
   "source": [
    "#### Changing the activation function also increased the accuracy to 79.68% (153/192)"
   ]
  }
 ],
 "metadata": {
  "kernelspec": {
   "display_name": "R",
   "language": "R",
   "name": "ir"
  },
  "language_info": {
   "codemirror_mode": "r",
   "file_extension": ".r",
   "mimetype": "text/x-r-source",
   "name": "R",
   "pygments_lexer": "r",
   "version": "3.6.1"
  }
 },
 "nbformat": 4,
 "nbformat_minor": 5
}
